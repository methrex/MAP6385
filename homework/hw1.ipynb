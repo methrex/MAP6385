{
  "nbformat": 4,
  "nbformat_minor": 0,
  "metadata": {
    "colab": {
      "name": "homework/hw1",
      "provenance": [],
      "collapsed_sections": [],
      "authorship_tag": "ABX9TyME331p2KOLaP3lNUcGW5A1",
      "include_colab_link": true
    },
    "kernelspec": {
      "name": "python3",
      "display_name": "Python 3"
    }
  },
  "cells": [
    {
      "cell_type": "markdown",
      "metadata": {
        "id": "view-in-github",
        "colab_type": "text"
      },
      "source": [
        "<a href=\"https://colab.research.google.com/github/methrex/MAP6385/blob/master/homework/hw1.ipynb\" target=\"_parent\"><img src=\"https://colab.research.google.com/assets/colab-badge.svg\" alt=\"Open In Colab\"/></a>"
      ]
    },
    {
      "cell_type": "markdown",
      "metadata": {
        "id": "me9dW7YqlUuC",
        "colab_type": "text"
      },
      "source": [
        "**2.2**\n",
        "\n",
        "Computer problem 6\n",
        "\n",
        "---"
      ]
    },
    {
      "cell_type": "code",
      "metadata": {
        "id": "8e0Ol2grj4nk",
        "colab_type": "code",
        "colab": {}
      },
      "source": [
        "import numpy as np\n",
        "\n",
        "#initialize two double precision and two single precision arrays\n",
        "x64 = np.array([2.718281828, -3.141592654, 1.414213562, 0.5772156649, 0.3010299957])\n",
        "y64 = np.array([1486.2497, 878366.9879, -22.37492, 4773714.647, 0.000185049])\n",
        "x32 = x64.astype(np.float32)\n",
        "y32 = y64.astype(np.float32)\n",
        "xy32 = np.multiply(x32,y32)\n",
        "xy64 = np.multiply(x64,y64)\n",
        "\n",
        "n = len(x64)\n",
        "ans32 = []\n",
        "ans64 = []"
      ],
      "execution_count": 0,
      "outputs": []
    },
    {
      "cell_type": "markdown",
      "metadata": {
        "id": "3Whb3Brwm4od",
        "colab_type": "text"
      },
      "source": [
        "(a) Forward order $\\sum\\limits_{i=1}^n x_iy_i$"
      ]
    },
    {
      "cell_type": "code",
      "metadata": {
        "id": "4EPUUpWMnK_9",
        "colab_type": "code",
        "colab": {}
      },
      "source": [
        "sum32=0;sum64=0.0\n",
        "for i in range(n):\n",
        "  sum32 = sum32 + x32[i]*y32[i]\n",
        "  sum64 = sum64 + x64[i]*y64[i]\n",
        "ans32.append(sum32)\n",
        "ans64.append(sum64)"
      ],
      "execution_count": 0,
      "outputs": []
    },
    {
      "cell_type": "markdown",
      "metadata": {
        "id": "jyyF3bKsnc_c",
        "colab_type": "text"
      },
      "source": [
        "(b) Reverse order $\\sum\\limits_{i=n}^1 x_iy_i$"
      ]
    },
    {
      "cell_type": "code",
      "metadata": {
        "id": "E3MvXBv-nmcD",
        "colab_type": "code",
        "colab": {}
      },
      "source": [
        "sum32=0;sum64=0.0\n",
        "for i in range(n-1,-1,-1):\n",
        "  sum32 = sum32 + x32[i]*y32[i]\n",
        "  sum64 = sum64 + x64[i]*y64[i]\n",
        "sum = np.array([sum32,sum64])\n",
        "ans32.append(sum32)\n",
        "ans64.append(sum64)"
      ],
      "execution_count": 0,
      "outputs": []
    },
    {
      "cell_type": "markdown",
      "metadata": {
        "id": "hYaphtoknyjN",
        "colab_type": "text"
      },
      "source": [
        "(c) Largest-to-smallest"
      ]
    },
    {
      "cell_type": "code",
      "metadata": {
        "id": "_DIPC8iNn3Ax",
        "colab_type": "code",
        "colab": {}
      },
      "source": [
        "sum32=0;sum64=0.0\n",
        "minus32 = xy32[xy32<0]\n",
        "minus64 = xy64[xy64<0]\n",
        "plus32  = xy32[xy32>=0]\n",
        "plus64  = xy64[xy64>=0]\n",
        "#sort\n",
        "plus32  = np.sort(plus32) ;plus32  = plus32[::-1]\n",
        "plus64  = np.sort(plus64) ;plus64  = plus64[::-1]\n",
        "minus32 = np.sort(minus32)\n",
        "minus64 = np.sort(minus64)\n",
        "for i in plus32:\n",
        "  sum32 = sum32 + i\n",
        "for j in plus64: \n",
        "  sum64 = sum64 + j\n",
        "for i in minus32:\n",
        "  sum32 = sum32 + i\n",
        "for j in minus64:\n",
        "  sum64 = sum64 + j\n",
        "ans32.append(sum32)\n",
        "ans64.append(sum64)"
      ],
      "execution_count": 0,
      "outputs": []
    },
    {
      "cell_type": "markdown",
      "metadata": {
        "id": "pfoOeF_Mq2ST",
        "colab_type": "text"
      },
      "source": [
        "(d) Smallest-to-largest"
      ]
    },
    {
      "cell_type": "code",
      "metadata": {
        "id": "H_ihSotcq-5h",
        "colab_type": "code",
        "colab": {}
      },
      "source": [
        "sum32=0;sum64=0.0\n",
        "minus32 = xy32[xy32<0]\n",
        "minus64 = xy64[xy64<0]\n",
        "plus32  = xy32[xy32>=0]\n",
        "plus64  = xy64[xy64>=0]\n",
        "#sort\n",
        "plus32  = np.sort(plus32) \n",
        "plus64  = np.sort(plus64) \n",
        "minus32 = np.sort(minus32);minus32 = minus32[::-1]\n",
        "minus64 = np.sort(minus64);minus64 = minus64[::-1]\n",
        "for i in minus32:\n",
        "  sum32 = sum32 + i\n",
        "for j in minus64:\n",
        "  sum64 = sum64 + j\n",
        "for i in plus32:\n",
        "  sum32 = sum32 + i\n",
        "for j in plus64: \n",
        "  sum64 = sum64 + j\n",
        "ans32.append(sum32)\n",
        "ans64.append(sum64)"
      ],
      "execution_count": 0,
      "outputs": []
    },
    {
      "cell_type": "markdown",
      "metadata": {
        "id": "luZ_bjRDr8Mj",
        "colab_type": "text"
      },
      "source": [
        "Comparing these all:"
      ]
    },
    {
      "cell_type": "code",
      "metadata": {
        "id": "rIHVpBCFwwpY",
        "colab_type": "code",
        "outputId": "2fcbb7c4-041b-4c8e-ce84-736d28d17b61",
        "colab": {
          "base_uri": "https://localhost:8080/",
          "height": 204
        }
      },
      "source": [
        "k=1\n",
        "for i,j in zip(ans32,ans64):\n",
        "  print('Method '+str(k)+'  Single: '+str(i)+'   Double: '+str(j),end='\\n\\n')\n",
        "  k = k +1\n",
        "print(\"The 'correct' value is 1.006571*10**-9\")\n",
        "print(\"Numpy dot product: \")\n",
        "print(\"Single: \", np.dot(x32,y32),\" Double: \", np.dot(x64,y64))"
      ],
      "execution_count": 1089,
      "outputs": [
        {
          "output_type": "stream",
          "text": [
            "Method 1  Single: -0.3472038161853561   Double: 1.0251881368296672e-10\n",
            "\n",
            "Method 2  Single: -0.3472038162872195   Double: -1.5643308870494366e-10\n",
            "\n",
            "Method 3  Single: -0.3472038162872195   Double: 1.4068746168049984e-12\n",
            "\n",
            "Method 4  Single: -0.3472038162872195   Double: 0.0\n",
            "\n",
            "The 'correct' value is 1.006571*10**-9\n",
            "Numpy dot product: \n",
            "Single:  -0.34720382  Double:  1.0251881368296672e-10\n"
          ],
          "name": "stdout"
        }
      ]
    },
    {
      "cell_type": "markdown",
      "metadata": {
        "id": "rwy9wKpFnD-2",
        "colab_type": "text"
      },
      "source": [
        "Single precision results have no variation where the numbers are meaningful (8 decimal places in this case?). The value is, however, much too high when compared to the *correct* answer. The default double precision values vary, but are much closer to the *correct* value. The doubles for the first three methods are at most 3 orders of magnitude off when compared to the 8 orders of magnitude for our float32 values. \n",
        "\n",
        "I suppose the single precision values are this incorrect due to rounding errors. They can't accurately store all of the information provided in some of the numbers, like 878366.9879. \n",
        "\n",
        "Our answers are on the order of $10^{-10}$, but our initial numbers were all at least $10^{-4}$. Even with double precision, we might not have the ability to accurately store all of the digits when performing operations on numbers whose orders of magnitude are very different. This might cause certain operations to no longer be associative, resulting in different answers for different orders of operations. "
      ]
    },
    {
      "cell_type": "markdown",
      "metadata": {
        "id": "WcLuV9vi6BuE",
        "colab_type": "text"
      },
      "source": [
        "---\n",
        "---\n",
        "\n",
        "\n",
        "4.1\n",
        "\n",
        "---\n",
        "---\n",
        "\n",
        "Problem 3\n",
        "\n",
        "---\n"
      ]
    },
    {
      "cell_type": "markdown",
      "metadata": {
        "id": "5FOmdAPD-uYQ",
        "colab_type": "text"
      },
      "source": [
        "**Prove that each of the elementary operations can be undone by an operation of the same type.**\n"
      ]
    },
    {
      "cell_type": "markdown",
      "metadata": {
        "id": "NF00C0Wu_PW0",
        "colab_type": "text"
      },
      "source": [
        "*Row swap*\n",
        "\n",
        "---\n",
        "\n",
        "Let operations of the type $(R_k \\leftrightarrow R_i)$ be operations that interchange the rows $R_K$ and $R_i$ of some matrix. Suppose we have\n",
        "\n",
        "$(R_i \\leftrightarrow R_k)(R_i \\leftrightarrow R_k)A$\n",
        "\n",
        "We can write the matrix $A$ as a column vector of rows\n",
        "$$A=  \\begin{bmatrix}\n",
        "        \\vdots \\\\ \n",
        "        R_k \\\\ \n",
        "        R_i \\\\ \n",
        "        \\vdots \n",
        "      \\end{bmatrix} \n",
        "$$\n",
        "Then, it is easy to see that \n",
        "\\begin{align*}\n",
        "(R_i \\leftrightarrow R_k)(R_i \\leftrightarrow R_k)A &= (R_i \\leftrightarrow R_k)(R_i \\leftrightarrow R_k) \n",
        "      \\begin{bmatrix}\n",
        "        \\vdots \\\\ \n",
        "        R_k \\\\ \n",
        "        R_i \\\\ \n",
        "        \\vdots \n",
        "      \\end{bmatrix} \n",
        "\\\\\n",
        "&=(R_i \\leftrightarrow R_k) \n",
        "      \\begin{bmatrix}\n",
        "        \\vdots \\\\ \n",
        "        R_i \\\\ \n",
        "        R_k \\\\ \n",
        "        \\vdots \n",
        "      \\end{bmatrix} \n",
        "\\\\\n",
        "&= \\begin{bmatrix}\n",
        "      \\vdots \\\\ \n",
        "      R_k \\\\ \n",
        "      R_i \\\\ \n",
        "      \\vdots \n",
        "    \\end{bmatrix} \n",
        "\\end{align*}\n",
        "Using the associativity of matrix multiplication:\n",
        "$$\n",
        "(R_i \\leftrightarrow R_k)(R_i \\leftrightarrow R_k)A = A \n",
        "\\implies\n",
        "(R_i \\leftrightarrow R_k)(R_i \\leftrightarrow R_k) = I\n",
        "$$\n",
        "\n",
        "assuming we can represent these operations as matrices. So, we've reached the conclusion that, for any indices $i$ and $k$ of the matrix A, any row interchange operation $(R_i \\leftrightarrow R_k)$ is its own inverse. $\\quad\\square$"
      ]
    },
    {
      "cell_type": "markdown",
      "metadata": {
        "id": "xHlYvCaI_TTP",
        "colab_type": "text"
      },
      "source": [
        "*Multiplication of a row by a nonzero scalar*\n",
        "\n",
        "---\n",
        "\n",
        "I'll use similar notation as above. Let $(cR_k)$ be a matrix operator that multiplies the $k^{th}$ row of a matrix by some $c\\in\\rm I\\!R$ such that $c\\neq0$. Then,\n",
        "\n",
        "\\begin{align*}\n",
        "  (c^{-1}R_k)(cR_k)A &= (c^{-1}R_k)(cR_k)\n",
        "      \\begin{bmatrix}\n",
        "        \\vdots \\\\ \n",
        "        R_k \\\\  \n",
        "        \\vdots \n",
        "      \\end{bmatrix} \n",
        "      \\\\\n",
        "      &=(c^{-1}R_k)\n",
        "      \\begin{bmatrix}\n",
        "        \\vdots \\\\ \n",
        "        cR_k \\\\  \n",
        "        \\vdots \n",
        "      \\end{bmatrix} \n",
        "      \\\\\n",
        "      &=\n",
        "      \\begin{bmatrix}\n",
        "        \\vdots \\\\ \n",
        "        R_k \\\\  \n",
        "        \\vdots \n",
        "      \\end{bmatrix} \n",
        "      \\\\\n",
        "      \\therefore\\quad\\quad\\quad\\quad (c^{-1}R_k)(cR_k) &= I\n",
        "\\end{align*}\n",
        "\n",
        "The multiplication of some row by a nonzero scalar can be undone my mutliplying the resulting row with that scalar's multiplicative inverse. $\\square$"
      ]
    },
    {
      "cell_type": "markdown",
      "metadata": {
        "id": "j1U9rHh2_Tx3",
        "colab_type": "text"
      },
      "source": [
        "*Adding a multiple of a row to another*\n",
        "\n",
        "---\n",
        "\n",
        "Let $(R_k:=R_k+cR_i)$ define an operation that adds the $i^{th}$ row of A multiplied by $c(\\neq0)$ to the $k^{th}$ row of A. It follows that\n",
        "\n",
        "\\begin{align*}\n",
        "  (R_k:=R_k-cR_i)(R_k:=R_k+cR_i)A &= (R_k:=R_k-cR_i)\n",
        "  \\begin{bmatrix}\n",
        "      \\vdots \\\\ \n",
        "      R_k + cR_i \\\\  \n",
        "      R_i \\\\\n",
        "      \\vdots \n",
        "  \\end{bmatrix}\n",
        "  \\\\\n",
        "  &= \n",
        "  \\begin{bmatrix}\n",
        "     \\vdots \\\\ \n",
        "     R_k + cR_i - cR_i\\\\  \n",
        "     R_i \\\\\n",
        "     \\vdots \n",
        "  \\end{bmatrix}\n",
        "  =\n",
        "  \\begin{bmatrix}\n",
        "     \\vdots \\\\ \n",
        "     R_k\\\\  \n",
        "     R_i \\\\\n",
        "     \\vdots \n",
        "  \\end{bmatrix}\n",
        "  \\\\\n",
        "  \\therefore \\quad (R_k:=R_k-cR_i)(R_k:=R_k+cR_i) &= I\n",
        "\\end{align*}\n",
        "\n",
        "Adding a multiple of the $i^{th}$ row of a matrix to the $k^{th}$ row can be undone by subtracting the $i^{th}$ row from the resulting $k^{th}$ row.                     $\\quad\\square$\n"
      ]
    },
    {
      "cell_type": "markdown",
      "metadata": {
        "id": "Ktlc178CZ32Q",
        "colab_type": "text"
      },
      "source": [
        "---\n",
        "\n",
        "Problem 13\n",
        "\n",
        "---"
      ]
    },
    {
      "cell_type": "markdown",
      "metadata": {
        "id": "eLi2FYE7Z_T4",
        "colab_type": "text"
      },
      "source": [
        "**Let $D$ be a matrix in partitioned form:**\n",
        "\n",
        "$$\n",
        "D=\n",
        "\\begin{bmatrix}\n",
        "  A & B \\\\\n",
        "  C & I\n",
        "\\end{bmatrix}\n",
        "$$\n",
        "\n",
        "**Prove that if $A-BC$ is nonsingular, then so is $D$.**\n",
        "\n",
        "Suppose we have a matrix $D$ as defined above and that it is nonsingular. Then, we can write \n",
        "\n",
        "\\begin{align*}\n",
        "  DD^{-1}&=I\n",
        "  \\\\\n",
        "  \\begin{bmatrix}\n",
        "    A & B \\\\\n",
        "    C & I\n",
        "  \\end{bmatrix}\n",
        "  \\begin{bmatrix}\n",
        "    X & Y \\\\\n",
        "    Z & W\n",
        "  \\end{bmatrix}\n",
        "  &= \n",
        "  \\begin{bmatrix}\n",
        "    I & 0 \\\\\n",
        "    0 & I\n",
        "  \\end{bmatrix}\n",
        "\\end{align*}\n",
        "\n",
        "We get the following matrix equations:\n",
        "\n",
        "\\begin{align*}\n",
        "   AX + BZ &= I \\\\\n",
        "   CX + Z &= 0  \\\\\n",
        "   AY + BW &= 0 \\\\\n",
        "   CY + W &= I  \\\\\n",
        "\\end{align*}\n",
        "\n",
        "It is immediately obvious that $\\boxed{Z=-CW}$. Using this result on the first equation:\n",
        "\n",
        "\\begin{align*}\n",
        "  AX + B(-CX) &= I \\\\\n",
        "  AX - BCX &= I    \\\\\n",
        "  (A-BC)X &= I     \\\\\n",
        "\\end{align*}\n",
        "\n",
        "$$  \\boxed{X=(A-BC)^{-1}} $$\n",
        "\n",
        "Using the third and fourth equations together:\n",
        "\n",
        "\\begin{align*}\n",
        "  AY + BW &= 0     \\\\\n",
        "  AY + B(I-CY) &=0 \\\\\n",
        "  AY + B - BCY &=0 \\\\\n",
        "  (A-BC)Y + B &=0  \\\\\n",
        "  (A-BC)Y &= -B    \\\\\n",
        "\\end{align*}\n",
        "\n",
        "$$\\boxed{Y=-(A-BC)^{-1}B}$$\n",
        "\n",
        "Using this on the fourth equation:\n",
        "\n",
        "\\begin{align*}\n",
        "  CY + W &= I \\\\\n",
        "  W&= I-CY    \\\\\n",
        "\\end{align*}\n",
        "\n",
        "$$\\boxed{ W=I + C(A-BC)^{-1}B}$$\n",
        "\n",
        "For $D$ to be invertible, we only require $A-BC$ to be nonsingular.$\\quad\\square$"
      ]
    },
    {
      "cell_type": "markdown",
      "metadata": {
        "id": "l3THoHWqg4U1",
        "colab_type": "text"
      },
      "source": [
        "---\n",
        "\n",
        "Problem 16\n",
        "\n",
        "---"
      ]
    },
    {
      "cell_type": "markdown",
      "metadata": {
        "id": "3t_A9iOeg7hC",
        "colab_type": "text"
      },
      "source": [
        "**For what values of $a$ is this matrix positive definite?**\n",
        "\n",
        "$$ \n",
        "A= \n",
        "\\begin{bmatrix}\n",
        "  1 & a & a \\\\\n",
        "  a & 1 & a \\\\\n",
        "  a & a & 1 \\\\\n",
        "\\end{bmatrix}\n",
        "$$"
      ]
    },
    {
      "cell_type": "markdown",
      "metadata": {
        "id": "xI7HWiSXhVzG",
        "colab_type": "text"
      },
      "source": [
        "If $A$ is positive definite, real, and symmetric, the its eigenvalues are all greater than 0 and real. Let's take a look at the characteristic polynomial:\n",
        "\n",
        "\\begin{gather*}\n",
        "  |A-\\lambda I| = 0 \n",
        "  \\\\\\\\\n",
        "  \\begin{vmatrix}\n",
        "    1-\\lambda & a & a \\\\\n",
        "    a & 1-\\lambda & a \\\\\n",
        "    a & a & 1-\\lambda \\\\\n",
        "  \\end{vmatrix}\n",
        "  = 0\n",
        "  \\\\\\\\\n",
        "  (1-\\lambda)\\bigg((1-\\lambda)^2-a^2 \\bigg) -a\\bigg(a(1-\\lambda)\n",
        "  -a^2\\bigg) + a \\bigg(a^2-a(1-\\lambda)\\bigg) =0\n",
        "\\end{gather*}\n",
        "\n",
        "Which simplifies to \n",
        "\n",
        "\n",
        "\\begin{align*}\n",
        "  -&\\lambda^3 + &3 &\\lambda^2 + &(3a^2 - 3)&\\lambda + \n",
        "  &2a^3-3a^2 + 1& =0\n",
        "  \\\\\n",
        "  a&\\lambda^3 + &b&\\lambda^2 + &c&\\lambda + &d& =0\n",
        "\\end{align*}\n",
        "\n",
        "The roots $\\lambda_1,\\lambda_2,\\lambda_3$, of a third degree polynomial of this form satisfy:\n",
        "\n",
        "\\begin{align*}\n",
        "  \\lambda_1 + \\lambda_2 + \\lambda_3 &&=&& -\\frac{b}{c} \n",
        "  &&=&& \\frac{1}{1-a^2}\n",
        "  \\\\\n",
        "  \\lambda_1\\lambda2 + \\lambda_2\\lambda_3 + \\lambda_3\\lambda_1 \n",
        "  &&=&&\\frac{c}{a} &&=&& 3(1-a^2)\n",
        "  \\\\\n",
        "  \\lambda_1\\lambda_2\\lambda_3 &&=&& -\\frac{d}{a} &&=&& 2a^3 -3a^2 +1\n",
        "\\end{align*}\n",
        "\n",
        "The first constraint is also the trace.\n",
        "\n",
        "$$Tr(A) = 1+1+1=3=\\lambda_1+\\lambda_2+\\lambda_3 = \\frac{1}{1-a^2}$$ \n",
        "\n",
        "This gives us the condition $\\boxed{a^2=\\frac{2}{3}}$\n",
        "\n",
        "The third constraint tells us \n",
        "\n",
        "\\begin{align*}\n",
        "  2a^3 -3a^2 + 1 &> 0\n",
        "  \\\\\n",
        "  2a^3+1 &> 3a^2 = 2.\n",
        "  \\\\\n",
        "  a^3 &> 1/2\n",
        "\\end{align*}\n",
        "$$  \\boxed{a > (1/2)^{\\frac{1}{3}}>0}$$\n",
        "\n",
        "We see that \n",
        "\n",
        "$$\n",
        "\\bigg(a=\\pm\\sqrt{2/3}\\bigg) land \\bigg(a>0 \\bigg)\n",
        "\\implies \\boxed{\\boxed{a=\\sqrt{2/3}}}\\quad\\quad\\quad\\square\n",
        "$$"
      ]
    },
    {
      "cell_type": "markdown",
      "metadata": {
        "id": "V0bQAw9spGsb",
        "colab_type": "text"
      },
      "source": [
        "---\n",
        "---\n",
        "\n",
        "Section 4.2\n",
        "\n",
        "---\n",
        "---"
      ]
    },
    {
      "cell_type": "markdown",
      "metadata": {
        "id": "jscbVYKvpXbn",
        "colab_type": "text"
      },
      "source": [
        "Problem 1\n",
        "\n",
        "---"
      ]
    },
    {
      "cell_type": "markdown",
      "metadata": {
        "id": "1EuXxG8opZTw",
        "colab_type": "text"
      },
      "source": [
        "**(a)  Show that if $U$ is upper triangular and invertible, then $U^{-1}$ is upper triangular**\n",
        "\n",
        "Let $P(n)$ be the proposition that an invertible upper triangular *n x n* matrix $U$ has an inverse that is also upper triangular."
      ]
    },
    {
      "cell_type": "markdown",
      "metadata": {
        "id": "wq3_BB5ApleH",
        "colab_type": "text"
      },
      "source": [
        "***Base case: *** n=2 \n",
        "\n",
        "(a *1 x 1* matrix is already upper triangular and invertible if it is not 0)\n",
        "\n",
        "Suppose  \n",
        "\n",
        "$$\n",
        "U = \n",
        "  \\begin{bmatrix} \n",
        "    u_{11} & u_{12} \\\\\n",
        "    0 & u_{22} \n",
        "  \\end{bmatrix}\n",
        "  \\in \\rm I\\!R^{2x2}\n",
        "$$\n",
        "\n",
        "Then, if its inverse exists,\n",
        "$$\n",
        "U^{-1} = \\frac{1}{u_{11}u_{22}}\n",
        "  \\begin{bmatrix}\n",
        "    u_{22} & -u_{12} \\\\ \n",
        "    0 & u_{11}\n",
        "  \\end{bmatrix}\n",
        "$$\n",
        "which is also upper triangular. So, $P(2)$ is true.\n",
        "\n",
        "\n",
        "***Inductive step:*** arbitrary $k\\in\\!Z$ such that $k>= 2$\n",
        "\n",
        "Assume the proposition $P(k)$ is true for a *k x k* matrix $U_k.$ That is, it is an upper triangular invertible matrix whose inverse is also upper triangular. We can then form the matrix\n",
        "\n",
        "$$ U_{k+1} = \n",
        "  \\begin{bmatrix}\n",
        "    U_k & \\vec{u} \\\\\n",
        "    \\big(\\vec{0}\\big)^T & u'\n",
        "  \\end{bmatrix}  \n",
        "\\in\\rm I\\!R^\\text{(n+1) x (n+1)}$$\n",
        "\n",
        "which is also upper triangular. $\\vec{u}$ is some column vector of length $k$ and $\\big(\\vec{0}\\big)^T$ is the zero vector of the same size. u' is some nonzero real scalar. Since $U_k$ is nonsingular and since u' is nonzero, then the determinant of $U_{k+1}$ is also nonzero by the properties of block matrices. Therefore, $U_{k+1}^{-1}$ exists, but what is it? \n",
        "\n",
        "$$\n",
        "U_{k+1}^{-1} \\equiv\n",
        "\\begin{bmatrix}\n",
        "  V_k               & \\vec{v} \\\\\n",
        "  \\big(\\vec{w}\\big) & 1\n",
        "\\end{bmatrix}\n",
        "$$\n",
        "\n",
        "where $\\vec{v}$ and $\\vec{w}$ are both  *k x 1* column vectors, and $v'$ is some scalar. $V_k$ is some *k x k* matrix.\n",
        "\n",
        "\\begin{align*}\n",
        "  \\overbrace{\n",
        "    \\begin{bmatrix}\n",
        "      U_k & \\vec{u} \\\\\n",
        "      \\big(\\vec{0}\\big)^T & u'\n",
        "    \\end{bmatrix}\n",
        "  }^{U_{k+1}}\n",
        "  \\underbrace{\n",
        "    \\begin{bmatrix}\n",
        "      V_k & \\vec{v} \\\\\n",
        "      \\big(\\vec{w}\\big)^T & v'\n",
        "    \\end{bmatrix}\n",
        "  }_{U_{k+1}^{-1}}\n",
        "  &&=&&\n",
        "  \\underbrace{\n",
        "    \\begin{bmatrix}\n",
        "      V_k & \\vec{v} \\\\\n",
        "      \\big(\\vec{w}\\big)^T & v'\n",
        "    \\end{bmatrix} \n",
        "  }_{U_{k+1}^{-1}}\n",
        "  \\overbrace{\n",
        "    \\begin{bmatrix}\n",
        "      U_k & \\vec{u} \\\\\n",
        "      \\big(\\vec{0}\\big)^T & u'\n",
        "    \\end{bmatrix} \n",
        "  }^{U_{k+1}}\n",
        "  &&=&&\n",
        "  \\underbrace{\n",
        "    \\begin{bmatrix}\n",
        "      I_k & \\vec{0} \\\\\n",
        "      \\vec{0}^T & 1\n",
        "    \\end{bmatrix}\n",
        "  }_{I_{k+1}}\n",
        "\\end{align*}\n",
        "\n",
        "From matrix multiplication, it follows that $$U_kV_k = V_kU_k = I_k$$\n",
        "Therefore, $\\boxed{V_k = U_k^{-1}}$, which is upper diagonal based on the assumption in our inductive step. More matrix multiplication tells us that\n",
        "$$\n",
        "(I_{2,1} )= 0 = \\big(\\vec{0}\\big)^T U_k^{-1} + u'\\big(\\vec{w}\\big)^T\n",
        "$$\n",
        "\n",
        "Because $u'\\neq0$, we have that $\\boxed{\\vec{w}=0}$. We must take $v'$ to be nonzero if we are to ensure the invertibility of $U_{k+1}^{-1}$. We have determined that\n",
        "\n",
        "$$ U_{k+1}^{-1} = \n",
        "\\begin{bmatrix}\n",
        "  U_k^{-1} & \\vec{v} \\\\\n",
        "  \\big(\\vec{0}\\big) & v'\n",
        "\\end{bmatrix},\\quad v'\\neq0\n",
        "$$\n",
        "\n",
        "which is an upper triangular matrix. We have shown that $P(2)$ is true and that $P(k)\\implies P(k+1)$ for arbitrary $ k\\in\\mathbb{Z}$. By mathematical induction, our proposition $P(n)$ is true $\\,\\forall\\, n \\in \\mathbb{Z}$ such that $n\\geq2. \\quad\\quad\\square$\n",
        "\n",
        "\n"
      ]
    },
    {
      "cell_type": "markdown",
      "metadata": {
        "id": "NIcJdB1qqDoJ",
        "colab_type": "text"
      },
      "source": [
        ""
      ]
    },
    {
      "cell_type": "markdown",
      "metadata": {
        "id": "KyZfd7cr0tbB",
        "colab_type": "text"
      },
      "source": [
        "**(b)  Show that the inverse of a unit lower triangular matrix is unit lower triangular**"
      ]
    },
    {
      "cell_type": "markdown",
      "metadata": {
        "id": "tu8_gtRN03Do",
        "colab_type": "text"
      },
      "source": [
        "We will proceed in a similar fashion. Let $P(n)$ be the proposition that an *n x n* unit lower triangular matrix L has an inverse that is also unit lower triangular."
      ]
    },
    {
      "cell_type": "markdown",
      "metadata": {
        "id": "WqmwvQBB3RrZ",
        "colab_type": "text"
      },
      "source": [
        "(a *1 x 1* unit lower triangular matrix is the scalar $1$, which is its own multiplicative inverse)\n",
        "\n",
        "***Base case:*** n=2 \n",
        "\n",
        "$L_2 = \\begin{bmatrix} 1 & 0 \\\\ a & 1 \\end{bmatrix} \\quad\\implies\\quad L_2^{-1} = \\begin{bmatrix} 1 & 0 \\\\ -a & 1 \\end{bmatrix}$, which is also unit lower triangular.\n",
        "\n",
        "***Inductive step:*** arbitrary $k\\in\\!Z$ such that $k>= 2$\n",
        "\n",
        "Assume the proposition $P(k)$ is true for a *k x k* matrix L_k. We construct the matrix \n",
        "\n",
        "$$\n",
        "L_{k+1} = \n",
        "\\begin{bmatrix} \n",
        "  L_k                 & \\vec(0) \\\\ \n",
        "  \\big(\\vec{l}\\big)^T & 1\n",
        "\\end{bmatrix}\n",
        "$$\n",
        "By properties of block matrices, $|L_{k+1}|\\neq0$. Therefore, $L_{k+1}^{-1}$ exists and we can construct it. Let \n",
        "\n",
        "$$\n",
        "L_{k+1}^{-1} \\equiv\n",
        "\\begin{bmatrix}\n",
        "  \\Gamma_k                 & \\vec{\\gamma} \\\\\n",
        "  \\big(\\vec{\\delta}\\big)^T & l'\n",
        "\\end{bmatrix}\n",
        "$$\n",
        "\n",
        "$\\Gamma_k$ is some *k x k* matrix, $\\vec{\\gamma}$ and $\\vec{\\delta}$ are some *k x 1* vectors, and $l'$ is some scalar. Just as above, we can then form the product\n",
        "\n",
        "$$\n",
        "L_{k+1}L_{k+1}^{-1} = L_{k+1}^{-1}L_{k+1} = I_{k+1}\n",
        "\\\\\n",
        "\\begin{bmatrix}\n",
        "    L_k                 & \\vec(0) \\\\ \n",
        "    \\big(\\vec{l}\\big)^T & 1\n",
        "\\end{bmatrix}\n",
        "\\begin{bmatrix}\n",
        "  \\Gamma_k                 & \\vec{\\gamma} \\\\\n",
        "  \\big(\\vec{\\delta}\\big)^T & l'\n",
        "\\end{bmatrix}\n",
        "=\n",
        "\\begin{bmatrix}\n",
        "  \\Gamma_k                 & \\vec{\\gamma} \\\\\n",
        "  \\big(\\vec{\\delta}\\big)^T & l'\n",
        "\\end{bmatrix}\n",
        "\\begin{bmatrix}\n",
        "    L_k                 & \\vec(0) \\\\ \n",
        "    \\big(\\vec{l}\\big)^T & 1\n",
        "\\end{bmatrix}\n",
        "=\n",
        "\\begin{bmatrix}\n",
        "  I_k & \\vec{0} \\\\\n",
        "  \\vec{0} ^T  & 1\n",
        "\\end{bmatrix}\n",
        "$$\n",
        "Looking at the elements of $I_{k+1}$:\n",
        "$$\n",
        "(I_{k+1})_{1,2} = \\vec{0} = \\Gamma_k \\big(\\vec{0}\\big)^T + \\vec{\\gamma} \\implies \\boxed{\\vec{\\gamma} = \\vec{0}}\n",
        "\\\\\n",
        "(I_{k+_1})_{2,2} = \\vec{l}^T \\vec{0} + l' = 1 \\implies \\boxed{l'=1}\n",
        "$$\n",
        "\n",
        "$L_{k+1}$ then has the form \n",
        "\n",
        "$$\n",
        "\\begin{bmatrix}\n",
        "  \\Gamma_k      & \\vec(0) \\\\ \n",
        "  \\vec{\\delta}^T & 1\n",
        "\\end{bmatrix}\n",
        "$$\n",
        "\n",
        "Because $L_k$ is unit lower triangular, $L_{k+1}$ is also unit lower triangular. We have shown that the base case $P(2)$ is true and that $P(k)\\implies P(k+1)$ for arbitrary $k\\in\\!Z$. By mathematical induction, the proposition $P(n)$ is true $\\forall n\\in\\!Z$ such that $n \\geq2\\quad\\square$\n"
      ]
    },
    {
      "cell_type": "markdown",
      "metadata": {
        "id": "fxVaKLxwy01I",
        "colab_type": "text"
      },
      "source": [
        "**(c) Show that the product of two upper (lower) triangular matrices is upper (lower) triangular.**\n",
        "\n",
        "Similar approach. Let $P(n)$ be the proposition that the product of two *n x n* upper (lower) triangular matrices is upper (lower) triangular."
      ]
    },
    {
      "cell_type": "markdown",
      "metadata": {
        "id": "2NE17uZFc6kk",
        "colab_type": "text"
      },
      "source": [
        "***Base case:*** n=2\n",
        "\n",
        "Suppose \n",
        "\\begin{align*}\n",
        "U_2=\\begin{bmatrix} a & b \\\\ 0 & d \\end{bmatrix},\\quad\n",
        "V_2=\\begin{bmatrix} e & f \\\\ 0 & h \\end{bmatrix}\n",
        "\\rightarrow&&\n",
        "U_2V_2 &= \\begin {bmatrix} ae & af + bh \\\\ 0 & dh \\end{bmatrix} \n",
        "\\\\\n",
        "L_2 = \\begin{bmatrix} a & 0 \\\\ c & d \\end{bmatrix},\\quad\n",
        "\\Gamma_2=\\begin{bmatrix} e & 0 \\\\ g & h \\end{bmatrix}\n",
        "\\rightarrow&&\n",
        "L_2\\Gamma_2 &=\\begin{bmatrix}  ae & 0 \\\\ ce + dg & dh \\end{bmatrix}\n",
        "\\end{align*}\n",
        "\n",
        "where $a,d,e,\\text{ and  }h$ are nonzero. So, we see that $P(2)$ is true. "
      ]
    },
    {
      "cell_type": "markdown",
      "metadata": {
        "id": "0a2VQiI7hOEC",
        "colab_type": "text"
      },
      "source": [
        "Next, assume that the proposition $P(k)$ is true for some arbitrary positive integer $k$.\n",
        "\n",
        "Let $U_k,V_k$ be upper triangular matrices of size *k xk*\n",
        "\n",
        "Let $L_k,\\Gamma_k$ be lower triangular matrices of size *k x k*\n",
        "\n",
        "Let $\\;\\vec{l}, \\;\\vec{\\gamma},\\;\\vec{u},\\;\\vec{v}\\;$ be *k x 1* vectors and let $\\;l,\\;\\gamma,\\;u,\\;v\\;$ be real nonzero scalars, though not necessarily vector norms. \n",
        "\n",
        "\\begin{align*}\n",
        "  U_{K+1}V_{k+1} &\\equiv \n",
        "  \\underbrace{\n",
        "    \\begin{bmatrix} U_k & \\vec{u} \\\\ \\vec{0}^T & u\\end{bmatrix}\n",
        "  }_{U_{k+1}}\n",
        "  \\overbrace{\n",
        "    \\begin{bmatrix} V_k & \\vec{v} \\\\ \\vec{0}^T & v\\end{bmatrix}\n",
        "  }^{V_{k+1}}\n",
        "  =\\begin{bmatrix} U_kV_k & U_k\\vec{v} + \\vec{u}v \\\\ \\vec{0}^T & uv\n",
        "  \\end{bmatrix}\n",
        "  \\\\\n",
        "  L_{k+1}\\Gamma_{k+1}&\\equiv\n",
        "  \\underbrace{\n",
        "    \\begin{bmatrix} K_k & \\vec{0} \\\\ \\vec{l}^T & l \\end{bmatrix}\n",
        "  }_{L_{k+1}}\n",
        "  \\overbrace{\n",
        "    \\begin{bmatrix} \\Gamma_k & \\vec{0} \\\\ \\vec{\\gamma}^T & \\gamma\n",
        "    \\end{bmatrix}\n",
        "  }^{\\Gamma_{k+1}}\n",
        "  =\\begin{bmatrix} L_k\\Gamma_k & \\vec{0} \\\\ \\vec{l}^T\\Gamma_k + l\\vec{\\gamma}^T & l\\gamma \\end{bmatrix}\n",
        "\\end{align*}\n",
        "\n",
        "We have that $u,v,l,\\gamma$ must be nonzero for the *(k + 1) x (k + 1)* matrices to be upper or lower triangular. Because we assumed that the product $U_kV_k$ $(L_k\\Gamma_k)$ to be upper (lower) triangular, this implies that the product $U_{k+1}V_{k+1}$ $(L_{k+1}\\Gamma_{k+1})$ to be upper (lower) triangular \n",
        "\n",
        "i.e. $P(k)\\implies P(k+1)$ for arbitrary positive integer $k.$ \n",
        "\n",
        "Because the base case is true, this means that our proposition $P(n)$ is true for all positive integers $n\\geq2$. $\\quad\\quad\\quad\\quad\\square$"
      ]
    },
    {
      "cell_type": "markdown",
      "metadata": {
        "id": "FTaJMmC_sKta",
        "colab_type": "text"
      },
      "source": [
        "---\n",
        "\n",
        "Problem 7\n",
        "\n",
        "---"
      ]
    },
    {
      "cell_type": "code",
      "metadata": {
        "id": "mU296C0Ys8ha",
        "colab_type": "code",
        "colab": {}
      },
      "source": [
        "A=np.array([[1,2,3],[2,3,17],[7,7,2]])\n",
        "(n,m)=A.shape\n",
        "L=np.zeros((n,n))\n",
        "U=np.zeros((n,n))"
      ],
      "execution_count": 0,
      "outputs": []
    },
    {
      "cell_type": "markdown",
      "metadata": {
        "id": "4-ducbMhtdtm",
        "colab_type": "text"
      },
      "source": [
        "**Doolittle algorithm, row version**"
      ]
    },
    {
      "cell_type": "code",
      "metadata": {
        "id": "UFXbNvHfta3M",
        "colab_type": "code",
        "outputId": "4f357d99-eb9e-4fc8-bec7-8aff8558a57b",
        "colab": {
          "base_uri": "https://localhost:8080/",
          "height": 357
        }
      },
      "source": [
        "L=np.zeros((n,n))\n",
        "U=np.zeros((n,n))\n",
        "\n",
        "for k in range(n):\n",
        "  L[k][k] = 1.0\n",
        "  for j in range(k):\n",
        "    sum=0.0\n",
        "    for s in range(k):\n",
        "      sum = sum + L[k][s]*U[s][j]\n",
        "    L[k][j] = (A[k][j] - sum)/U[j][j]\n",
        "  for i in range(k,n):\n",
        "    sum=0.0\n",
        "    for s in range(k):\n",
        "      sum = sum + L[k][s]*U[s][i]\n",
        "    U[k][i]=(A[k][i]-sum)\n",
        "\n",
        "print(\"A\");print(A,end='\\n\\n');\n",
        "print(\"L\");print(L,end='\\n\\n');\n",
        "print(\"U\");print(U,end='\\n\\n');\n",
        "print(\"A=LU\");print(np.matmul(L,U),end='\\n\\n')"
      ],
      "execution_count": 1091,
      "outputs": [
        {
          "output_type": "stream",
          "text": [
            "A\n",
            "[[ 1  2  3]\n",
            " [ 2  3 17]\n",
            " [ 7  7  2]]\n",
            "\n",
            "L\n",
            "[[1. 0. 0.]\n",
            " [2. 1. 0.]\n",
            " [7. 7. 1.]]\n",
            "\n",
            "U\n",
            "[[  1.   2.   3.]\n",
            " [  0.  -1.  11.]\n",
            " [  0.   0. -96.]]\n",
            "\n",
            "A=LU\n",
            "[[ 1.  2.  3.]\n",
            " [ 2.  3. 17.]\n",
            " [ 7.  7.  2.]]\n",
            "\n"
          ],
          "name": "stdout"
        }
      ]
    },
    {
      "cell_type": "markdown",
      "metadata": {
        "id": "wmB6OFwDtBhH",
        "colab_type": "text"
      },
      "source": [
        "**Doolittle algorithm, column version**"
      ]
    },
    {
      "cell_type": "code",
      "metadata": {
        "id": "dT4_Lfw4svEM",
        "colab_type": "code",
        "outputId": "ea0dc287-fa29-42b6-d559-5c18c5490f25",
        "colab": {
          "base_uri": "https://localhost:8080/",
          "height": 357
        }
      },
      "source": [
        "L=np.zeros((n,n))\n",
        "U=np.zeros((n,n))\n",
        "\n",
        "for k in range(n):\n",
        "  L[k][k] = 1.0\n",
        "  for j in range(k+1):\n",
        "    sum=0.0\n",
        "    for s in range (k):\n",
        "      sum = sum + U[s][k]*L[j][s]\n",
        "    U[j][k] = A[j][k] - sum\n",
        "  for i in range(k+1,n):\n",
        "    sum=0.0\n",
        "    for s in range(k):\n",
        "      sum = sum + L[i][s]*U[s][k]\n",
        "    L[i][k]=(A[i][k]-sum)/U[k][k]\n",
        "\n",
        "print(\"A\");print(A,end='\\n\\n');\n",
        "print(\"L\");print(L,end='\\n\\n');\n",
        "print(\"U\");print(U,end='\\n\\n');\n",
        "print(\"A=LU\");print(np.matmul(L,U),end='\\n\\n')"
      ],
      "execution_count": 1092,
      "outputs": [
        {
          "output_type": "stream",
          "text": [
            "A\n",
            "[[ 1  2  3]\n",
            " [ 2  3 17]\n",
            " [ 7  7  2]]\n",
            "\n",
            "L\n",
            "[[1. 0. 0.]\n",
            " [2. 1. 0.]\n",
            " [7. 7. 1.]]\n",
            "\n",
            "U\n",
            "[[  1.   2.   3.]\n",
            " [  0.  -1.  11.]\n",
            " [  0.   0. -96.]]\n",
            "\n",
            "A=LU\n",
            "[[ 1.  2.  3.]\n",
            " [ 2.  3. 17.]\n",
            " [ 7.  7.  2.]]\n",
            "\n"
          ],
          "name": "stdout"
        }
      ]
    },
    {
      "cell_type": "markdown",
      "metadata": {
        "id": "5ieeUnxdzC_X",
        "colab_type": "text"
      },
      "source": [
        "---\n",
        "\n",
        "Problem 35\n",
        "\n",
        "---\n",
        "\n",
        "Some definitions"
      ]
    },
    {
      "cell_type": "code",
      "metadata": {
        "id": "87k-CyE7s0PJ",
        "colab_type": "code",
        "colab": {}
      },
      "source": [
        "#-------------------------------------------------------------------------------\n",
        "def doolittle(A):\n",
        "  #Perform Doolittle factorization on a matrix A. Returns the tuple (L,U), \n",
        "  #where L is unit lower triangular and U is upper triangular\n",
        "\n",
        "  (n,m)=A.shape;L=np.zeros((n,n));U=np.zeros((n,n))\n",
        "\n",
        "  for k in range(n):\n",
        "    L[k][k] = 1.0\n",
        "    for j in range(k):\n",
        "\n",
        "      sum=0.0\n",
        "      for s in range(k-1):\n",
        "        sum = sum + L[k][s]*U[s][j]\n",
        "\n",
        "      L[k][j] = (A[k][j] - sum)/U[j][j]\n",
        "    for i in range(k,n):\n",
        "\n",
        "      sum=0.0\n",
        "      for s in range(k):\n",
        "        sum = sum + L[k][s]*U[s][i] \n",
        "\n",
        "      U[k][i]=(A[k][i]-sum)\n",
        "\n",
        "  return(L,U)\n",
        "#-------------------------------------------------------------------------------\n",
        "def crout(A):\n",
        "  #Perform Crout factorization on a Matrix A. Returns the tuple (L,U), \n",
        "  #where L is lower triangular and U is unit upper triangular\n",
        "\n",
        "  (n,m)=A.shape;L=np.zeros((n,n));U=np.zeros((n,n))\n",
        "  for k in range(n):\n",
        "    U[k][k] = 1.0\n",
        "    for j in range(k,n):\n",
        "      \n",
        "      sum=0.0\n",
        "      for s in range(k):\n",
        "        sum = sum + L[j][s]*U[s][k]\n",
        "\n",
        "      L[j][k]=A[j][k] - sum \n",
        "    \n",
        "    for j in range(k+1,n):\n",
        "\n",
        "      sum=0.0\n",
        "      for s in range(k):\n",
        "        sum = sum + L[k][s]*U[s][j]\n",
        "\n",
        "      U[k][j] = (A[k][j] - sum )/L[k][k]\n",
        "  \n",
        "  return(L,U)\n",
        "#-------------------------------------------------------------------------------\n",
        "\n",
        "def cholesky2(A):\n",
        "  #Takes as input a matrix A and determins its factorization A=LDU, where L is\n",
        "  #lower triangular, D is diagonal, and U=L^T. \n",
        "\n",
        "  if np.all(np.linalg.eigvals(A) > 0) and np.all(A.transpose()-A ==0) :\n",
        "    print(\"Input matrix is symmetric and positive definite!\")\n",
        "  else:\n",
        "    print('Input matrix is not positive definite or non-symmetric')\n",
        "    print('Try again.')\n",
        "    return []\n",
        "\n",
        "  (n,m)=A.shape;L=np.zeros((n,n));\n",
        "\n",
        "  for k in range(n):\n",
        "\n",
        "    sum=0\n",
        "    for s in range(k):\n",
        "      sum = sum + L[k][s]**2\n",
        "    L[k][k] = (A[k][k] - sum)**(1/2)\n",
        "\n",
        "    for i in range(k+1,n):\n",
        "      sum=0\n",
        "      for s in range(k):\n",
        "        sum = sum + L[i][k]*L[k][s]\n",
        "      L[i][k] = (A[i][k]- sum)/L[k][k]\n",
        "\n",
        "  return(L)\n",
        "#-------------------------------------------------------------------------------\n",
        "def cholesky(A):\n",
        "  #Takes as input a matrix A and determins its factorization A=LDU, where L is\n",
        "  #lower triangular, D is diagonal, and U=L^T. \n",
        "  #\n",
        "  #Returns the tuple (L,D)\n",
        "\n",
        "  if np.all(np.linalg.eigvals(A) > 0) and np.all(A.transpose()-A ==0) :\n",
        "    print(\"Input matrix is symmetric and positive definite!\")\n",
        "  else:\n",
        "    print('Input matrix is not positive definite or non-symmetric')\n",
        "    print('Try again.')\n",
        "    return []\n",
        "\n",
        "  (n,m)=A.shape;L=np.zeros((n,n));D=np.zeros((n,n))\n",
        "\n",
        "  for k in range(n):\n",
        "    L[k][k] = 1\n",
        "    sum=0\n",
        "    for s in range(k):\n",
        "      sum = sum + (L[k][s]**2)*D[s][s]\n",
        "    D[k][k] = A[k][k] - sum\n",
        "\n",
        "    for i in range(k+1,n):\n",
        "      sum=0\n",
        "      for s in range(k):\n",
        "        sum = sum + L[i][s]*L[k][s]*D[k][k]\n",
        "      L[i][k] = (A[i][k]- sum)/D[k][k]\n",
        "  \n",
        "  return (L,D)\n",
        "#-------------------------------------------------------------------------------\n",
        "#I grabbed the following function (slightly modified) from this link\n",
        "#https://stackoverflow.com/questions/18915378/rounding-to-significant-figures-in-numpy\n",
        "__logBase10of2 = 3.010299956639811952137388947244930267681898814621085413104274611e-1\n",
        "\n",
        "def RoundToSigFigs_fp( x, sigfigs ):\n",
        "    \"\"\"\n",
        "    Rounds the value(s) in x to the number of significant figures in sigfigs.\n",
        "    Return value has the same type as x.\n",
        "\n",
        "    Restrictions:\n",
        "    sigfigs must be an integer type and store a positive value.\n",
        "    x must be a real value.\n",
        "    \"\"\"\n",
        "    if not ( type(sigfigs) is int or type(sigfigs) is long or\n",
        "             isinstance(sigfigs, np.integer) ):\n",
        "        raise TypeError( \"RoundToSigFigs_fp: sigfigs must be an integer.\" )\n",
        "\n",
        "    if sigfigs <= 0:\n",
        "        raise ValueError( \"RoundToSigFigs_fp: sigfigs must be positive.\" )\n",
        "\n",
        "    xsgn = np.sign(x)\n",
        "    absx = xsgn * x\n",
        "    mantissa, binaryExponent = np.frexp( absx )\n",
        "\n",
        "    decimalExponent = __logBase10of2 * binaryExponent\n",
        "    omag = np.floor(decimalExponent)\n",
        "\n",
        "    mantissa *= 10.0**(decimalExponent - omag)\n",
        "\n",
        "    if np.all(mantissa < 1.0):\n",
        "        mantissa *= 10.0\n",
        "        omag -= 1.0\n",
        "\n",
        "    return xsgn * np.around( mantissa, decimals=sigfigs - 1 ) * 10.0**omag"
      ],
      "execution_count": 0,
      "outputs": []
    },
    {
      "cell_type": "markdown",
      "metadata": {
        "id": "p7zdtiZT1U0R",
        "colab_type": "text"
      },
      "source": [
        "Set print options and initialize the matrix A, which is real and symmetric."
      ]
    },
    {
      "cell_type": "code",
      "metadata": {
        "id": "qVORkqG9zXRW",
        "colab_type": "code",
        "colab": {}
      },
      "source": [
        "A=np.array([[136.01,90.860,0.0,0.0],[90.860,98.810,-67.590,0.0],[0.0,-67.590,132.01,46.260],[0.0,0.0,46.260,177.17]])"
      ],
      "execution_count": 0,
      "outputs": []
    },
    {
      "cell_type": "markdown",
      "metadata": {
        "id": "0n83fwJszR9Q",
        "colab_type": "text"
      },
      "source": [
        "$(i) \\quad A=LU$, where $L$ is unit lower triangular and $U$ is upper triangular (Doolittle)\n",
        "\n",
        "---"
      ]
    },
    {
      "cell_type": "code",
      "metadata": {
        "id": "kQ9ZD88pzh-D",
        "colab_type": "code",
        "outputId": "e7066392-68ce-445a-e8da-93f8de1549e1",
        "colab": {
          "base_uri": "https://localhost:8080/",
          "height": 442
        }
      },
      "source": [
        "(L,U)=doolittle(A)\n",
        "LU=(np.matmul(L,U))\n",
        "print(\"A\");print(RoundToSigFigs_fp(A,5),end='\\n\\n')\n",
        "print(\"L\");print(RoundToSigFigs_fp(L,5),end='\\n\\n')\n",
        "print(\"U\");print(RoundToSigFigs_fp(U,5),end='\\n\\n')\n",
        "print(\"A=LU\");print(RoundToSigFigs_fp(LU,5),end='\\n\\n\\n')"
      ],
      "execution_count": 1095,
      "outputs": [
        {
          "output_type": "stream",
          "text": [
            "A\n",
            "[[136.01  90.86   0.     0.  ]\n",
            " [ 90.86  98.81 -67.59   0.  ]\n",
            " [  0.   -67.59 132.01  46.26]\n",
            " [  0.     0.    46.26 177.17]]\n",
            "\n",
            "L\n",
            "[[ 1.      0.      0.      0.    ]\n",
            " [ 0.668   1.      0.      0.    ]\n",
            " [ 0.     -1.7735  1.      0.    ]\n",
            " [ 0.      0.      3.8099  1.    ]]\n",
            "\n",
            "U\n",
            "[[136.01    90.86     0.       0.    ]\n",
            " [  0.      38.112  -67.59     0.    ]\n",
            " [  0.       0.      12.142   46.26  ]\n",
            " [  0.       0.       0.       0.9222]]\n",
            "\n",
            "A=LU\n",
            "[[136.01  90.86   0.     0.  ]\n",
            " [ 90.86  98.81 -67.59   0.  ]\n",
            " [  0.   -67.59 132.01  46.26]\n",
            " [  0.     0.    46.26 177.17]]\n",
            "\n",
            "\n"
          ],
          "name": "stdout"
        }
      ]
    },
    {
      "cell_type": "markdown",
      "metadata": {
        "id": "Me-HAmlgzSHa",
        "colab_type": "text"
      },
      "source": [
        "$(ii)/(iv) \\quad A=LDU=L^*{L^*}^{T}$, where $L$ and $L^*$ are unit lower triangular, $U$ is unit upper triangular, and $D$ is diagonal.\n",
        "\n",
        "---"
      ]
    },
    {
      "cell_type": "code",
      "metadata": {
        "id": "0qtfhs3_0WMT",
        "colab_type": "code",
        "outputId": "d9ad3c07-eb40-4d1b-c1f2-dbdc19ae3731",
        "colab": {
          "base_uri": "https://localhost:8080/",
          "height": 459
        }
      },
      "source": [
        "(L,D)=cholesky(A)\n",
        "U=np.transpose(L)\n",
        "LDU=np.matmul(np.matmul(L,D),U)\n",
        "print(\"A\");print(RoundToSigFigs_fp(A,5),end='\\n\\n')\n",
        "print(\"L\");print(RoundToSigFigs_fp(L,5),end='\\n\\n')\n",
        "print(\"D\");print(RoundToSigFigs_fp(D,5),end='\\n\\n')\n",
        "print(\"A=LDL^T\");print(RoundToSigFigs_fp(LDU,5),end='\\n\\n\\n')"
      ],
      "execution_count": 1096,
      "outputs": [
        {
          "output_type": "stream",
          "text": [
            "Input matrix is symmetric and positive definite!\n",
            "A\n",
            "[[136.01  90.86   0.     0.  ]\n",
            " [ 90.86  98.81 -67.59   0.  ]\n",
            " [  0.   -67.59 132.01  46.26]\n",
            " [  0.     0.    46.26 177.17]]\n",
            "\n",
            "L\n",
            "[[ 1.      0.      0.      0.    ]\n",
            " [ 0.668   1.      0.      0.    ]\n",
            " [ 0.     -1.7735  1.      0.    ]\n",
            " [ 0.      0.      3.8099  1.    ]]\n",
            "\n",
            "D\n",
            "[[136.01     0.       0.       0.    ]\n",
            " [  0.      38.112    0.       0.    ]\n",
            " [  0.       0.      12.142    0.    ]\n",
            " [  0.       0.       0.       0.9222]]\n",
            "\n",
            "A=LDL^T\n",
            "[[136.01  90.86   0.     0.  ]\n",
            " [ 90.86  98.81 -67.59   0.  ]\n",
            " [  0.   -67.59 132.01  46.26]\n",
            " [  0.     0.    46.26 177.17]]\n",
            "\n",
            "\n"
          ],
          "name": "stdout"
        }
      ]
    },
    {
      "cell_type": "markdown",
      "metadata": {
        "id": "0AOZVHBm2vjU",
        "colab_type": "text"
      },
      "source": [
        "We can take the square root of $D$ element-wise to obtain $D^{1/2} = \\big(\\sqrt{d_{ii}}\\big)$. $D$ and $D^{1/2}$ are diagonal. Then,\n",
        "\n",
        "\n",
        "$$\n",
        "A=LDL^T = LD^{1/2}D^{1/2}L^T = (LD^{1/2})(LD^{1/2})^T=L^*{L^*}^T\n",
        "$$\n",
        "\n",
        "\n",
        "The above is possible by the fact that a diagonal matrix is its own transpose and preserves the shape of other matrices under matrix multiplication. Thus, $L^*$ is also lower triangular."
      ]
    },
    {
      "cell_type": "markdown",
      "metadata": {
        "id": "ViGdgTykzSUF",
        "colab_type": "text"
      },
      "source": [
        "$(iii)\\quad A=LU $, where $L$ is lower triangular and $U$ is unit upper triangular (Crout)\n",
        "\n",
        "---"
      ]
    },
    {
      "cell_type": "code",
      "metadata": {
        "id": "BT6JQz-T1G9a",
        "colab_type": "code",
        "outputId": "386b617c-1e12-45b8-9f86-cc74c6c8429c",
        "colab": {
          "base_uri": "https://localhost:8080/",
          "height": 425
        }
      },
      "source": [
        "(L,U)=crout(A)\n",
        "LU=np.matmul(L,U)\n",
        "print(\"A\");print(RoundToSigFigs_fp(A,5),end='\\n\\n')\n",
        "print(\"L\");print(RoundToSigFigs_fp(L,5),end='\\n\\n')\n",
        "print(\"U\");print(RoundToSigFigs_fp(U,5),end='\\n\\n')\n",
        "print(\"A=LU\");print(RoundToSigFigs_fp(LU,5),end='\\n\\n')"
      ],
      "execution_count": 1097,
      "outputs": [
        {
          "output_type": "stream",
          "text": [
            "A\n",
            "[[136.01  90.86   0.     0.  ]\n",
            " [ 90.86  98.81 -67.59   0.  ]\n",
            " [  0.   -67.59 132.01  46.26]\n",
            " [  0.     0.    46.26 177.17]]\n",
            "\n",
            "L\n",
            "[[136.01     0.       0.       0.    ]\n",
            " [ 90.86    38.112    0.       0.    ]\n",
            " [  0.     -67.59    12.142    0.    ]\n",
            " [  0.       0.      46.26     0.9222]]\n",
            "\n",
            "U\n",
            "[[ 1.      0.668   0.      0.    ]\n",
            " [ 0.      1.     -1.7735  0.    ]\n",
            " [ 0.      0.      1.      3.8099]\n",
            " [ 0.      0.      0.      1.    ]]\n",
            "\n",
            "A=LU\n",
            "[[136.01  90.86   0.     0.  ]\n",
            " [ 90.86  98.81 -67.59   0.  ]\n",
            " [  0.   -67.59 132.01  46.26]\n",
            " [  0.     0.    46.26 177.17]]\n",
            "\n"
          ],
          "name": "stdout"
        }
      ]
    },
    {
      "cell_type": "markdown",
      "metadata": {
        "id": "OHAYIbUM5vYu",
        "colab_type": "text"
      },
      "source": [
        "---\n",
        "---\n",
        "Section 4.3\n",
        "\n",
        "---\n",
        "---"
      ]
    },
    {
      "cell_type": "markdown",
      "metadata": {
        "id": "K-a-sHjT55Xg",
        "colab_type": "text"
      },
      "source": [
        "Problem 1(b)\n",
        "\n",
        "---"
      ]
    },
    {
      "cell_type": "markdown",
      "metadata": {
        "id": "i7po63HR6O1z",
        "colab_type": "text"
      },
      "source": [
        "We want to solve the matrix equation \n",
        "$$\n",
        "\\begin{bmatrix}\n",
        "  1 & 6 & 0 \\\\\n",
        "  2 & 1 & 0 \\\\\n",
        "  0 & 2 & 1 \\\\\n",
        "\\end{bmatrix}\n",
        "\\begin{bmatrix} x_1 \\\\ x_2 \\\\ x_3 \\end{bmatrix}\n",
        "=\n",
        "\\begin{bmatrix} 3 \\\\ 1 \\\\  1 \\end{bmatrix}\n",
        "$$\n",
        "\n",
        "**Gaussian Elimination**\n",
        "\n",
        "\\begin{align*}\n",
        "\\\\\n",
        "  A:\n",
        "  \\begin{bmatrix}\n",
        "    1 & 6 & 0 \\\\\n",
        "    2 & 1 & 0 \\\\\n",
        "    0 & 2 & 1 \\\\\n",
        "  \\end{bmatrix}&\n",
        "  &\\begin{bmatrix}\n",
        "    1 & 6 & 0 \\\\ (2) & -11 & 0 \\\\ 0 & 2 & 1\n",
        "  \\end{bmatrix}&\n",
        "  &\\begin{bmatrix}\n",
        "    1 & 6 & 0 \\\\ (2) & -11 & 0 \\\\ 0 & (-2/11) & 1\n",
        "  \\end{bmatrix}\n",
        "  \\\\   \n",
        "  &\\xrightarrow{R_2\\equiv R_2-2R_1}&\n",
        "  &\\xrightarrow{R_3\\equiv R_3 + \\frac{2}{11}R_2}&\n",
        "  \\\\\n",
        "  x:\n",
        "  \\begin{bmatrix} 3 \\\\ 1 \\\\ 1 \\end{bmatrix}&&\n",
        "  \\begin{bmatrix} 3 \\\\ -5 \\\\ 1 \\end{bmatrix}&&\n",
        "  \\begin{bmatrix} 3 \\\\ -5 \\\\ 1/11 \\end{bmatrix}\n",
        "  \\\\\\\\\n",
        "\\end{align*}\n",
        "\n",
        "\n",
        "Now, we can equivalently solve\n",
        "\n",
        "$$\n",
        "  \\begin{bmatrix}\n",
        "    1 & 6 & 0 \\\\ 0 & -11 & 0 \\\\ 0 & 0 & 1\n",
        "  \\end{bmatrix}\n",
        "  \\begin{bmatrix} x_1 \\\\ x_2 \\\\ x_3 \\end{bmatrix}\n",
        "  =\n",
        "  \\begin{bmatrix} 3 \\\\ -5 \\\\ 1/11 \\end{bmatrix}\n",
        "$$\n",
        "\n",
        "$$ \n",
        "\\boxed{x_2 = \\frac{5}{11}}\\quad \\boxed{x_3=\\frac{1}{11}} \n",
        "\\\\\n",
        "x_1 + 6x_2 = x_1 + \\frac{30}{11} = 3 \\implies \\boxed{x_1 = \\frac{3}{11}}\n",
        "$$\n",
        "And we can rewrite A as\n",
        "\n",
        "$$ A= LU = \n",
        "\\begin{bmatrix} \n",
        "1 & 0 & 0 \\\\ 2 & 1 & 0 \\\\ 0 & -2/11 & 1\n",
        "\\end{bmatrix}\n",
        "\\begin{bmatrix}\n",
        "1 & 6 & 0 \\\\ 0 & -11 & 0 \\\\ 0 & 0 & 1\n",
        "\\end{bmatrix}\n",
        "$$"
      ]
    },
    {
      "cell_type": "markdown",
      "metadata": {
        "id": "v_DvlooG6Y92",
        "colab_type": "text"
      },
      "source": [
        "We can check that this is correct\n"
      ]
    },
    {
      "cell_type": "code",
      "metadata": {
        "id": "UPvVKrWD55r3",
        "colab_type": "code",
        "outputId": "d9fa2f38-397b-4ffc-ac22-497520f236b2",
        "colab": {
          "base_uri": "https://localhost:8080/",
          "height": 119
        }
      },
      "source": [
        "A=np.array([[1,6,0],[2,1,0],[0,2,1]])\n",
        "x=np.array([3/11,5/11,1/11]);x=np.transpose(x)\n",
        "L=np.array([[1,0,0],[2,1,0],[0,-2/11,1]])\n",
        "U=np.array([[1,6,0],[0,-11,0],[0,0,1]])\n",
        "print('Ax = the vector: ',np.matmul(A,x),end='\\n\\n')\n",
        "print('LU = the matrix: ')\n",
        "print(np.matmul(L,U))"
      ],
      "execution_count": 1098,
      "outputs": [
        {
          "output_type": "stream",
          "text": [
            "Ax = the vector:  [3. 1. 1.]\n",
            "\n",
            "LU = the matrix: \n",
            "[[1. 6. 0.]\n",
            " [2. 1. 0.]\n",
            " [0. 2. 1.]]\n"
          ],
          "name": "stdout"
        }
      ]
    },
    {
      "cell_type": "markdown",
      "metadata": {
        "id": "ARj0sBif4n6c",
        "colab_type": "text"
      },
      "source": [
        "**Scaled Row Pivoting**"
      ]
    },
    {
      "cell_type": "markdown",
      "metadata": {
        "id": "Jzn15mfN7Zlr",
        "colab_type": "text"
      },
      "source": [
        "Let $s$ define the vector whose elements $s_i$ are the elements in the $i^{th}$ row of A with the largest absolute value. Given the same $A$ as above, we see that \n",
        "$$ s = \\begin{bmatrix} 6 \\\\ 2 \\\\ 2 \\end{bmatrix} $$\n",
        "We can determine the pivots of each row by comparing the diagonal entries of $A$ normalized by their respective $s_i$. \n",
        "\n",
        "$$ \\frac{a_{11}}{s_1} = \\frac{1}{6} \\quad\\quad \\boxed{\\frac{a_{22}}{s_2} = \\frac{1}{2} \\quad\\quad \\frac{a_{33}}{s_3} = \\frac{1}{2}}$$\n",
        "\n",
        "So, we can just choose the second row. We will first permute our matrix A by interchanging rows $R_1$ and $R_2$.\n",
        "\n",
        "$$ \n",
        "\\underbrace{\n",
        "\\begin{bmatrix}\n",
        "  0 & 1 & 0 \\\\\n",
        "  1 & 0 & 0 \\\\\n",
        "  0 & 0 & 1\n",
        "\\end{bmatrix}}_{P = (R_1 \\leftrightarrow R_2)}\n",
        "\\overbrace{\n",
        "\\begin{bmatrix} \n",
        "  1 & 6 & 0 \\\\\n",
        "  2 & 1 & 0 \\\\\n",
        "  0 & 2 & 1 \n",
        "\\end{bmatrix}}^A\n",
        "=\n",
        "\\begin{bmatrix}\n",
        "  2 & 1 & 0 \\\\\n",
        "  1 & 6 & 0 \\\\\n",
        "  0 & 2 & 1\n",
        "\\end{bmatrix}\n",
        "$$\n",
        "\n",
        "Get make the entries below our pivot $0$.\n",
        "\n",
        "$$\n",
        "\\begin{bmatrix}\n",
        "  2 & 1 & 0 \\\\\n",
        "  1 & 6 & 0 \\\\\n",
        "  0 & 2 & 1\n",
        "\\end{bmatrix}\n",
        "\\xrightarrow{R_2\\equiv R_2 - \\frac{1}{2} R_1}\n",
        "\\begin{bmatrix} \n",
        "  2 & 1 & 0 \\\\\n",
        "  (1/2) & 11/2 & 0 \\\\\n",
        "  0 & 2 & 1\n",
        "\\end{bmatrix}\n",
        "$$\n",
        "We will proceed with the same process as before. \n",
        "\n",
        "$$ \n",
        "\\boxed{\\frac{2_{11}}{2} = 1 \\quad\\quad \\frac{{11/2}_{22}}{11/2} = 1}\\quad\\quad \\frac{1_{33}}{2} = \\frac{1}{2}\n",
        "$$\n",
        "\n",
        "We can just choose $R_1$. \n",
        "\n",
        "$$\n",
        "\\begin{bmatrix}\n",
        "  2 & 1 & 0 \\\\\n",
        "  (1/2) & 11/2 & 0 \\\\\n",
        "  0 & 2 & 1\n",
        "\\end{bmatrix}\n",
        "\\xrightarrow{R_3 \\equiv R_3 - \\frac{4}{11} R_2}\n",
        "\\begin{bmatrix}\n",
        "  2 & 1 & 0 \\\\\n",
        "  (1/2) & 11/2 & 0 \\\\\n",
        "  0 & (4/11) & 1\n",
        "\\end{bmatrix}\n",
        "$$\n",
        "\n",
        "We can construct the matrices $P,L,$ and $U$\n",
        "\n",
        "\\begin{align*}\n",
        "PA&=LU \\\\\n",
        "\\begin{bmatrix} 0 & 1 & 0 \\\\ 1 & 0 & 0 \\\\ 0 & 0 & 1 \\end{bmatrix}\n",
        "\\begin{bmatrix} 1 & 6 & 0 \\\\ 2 & 1 & 0 \\\\ 0 & 2 & 1 \\end{bmatrix}\n",
        "&=\n",
        "\\begin{bmatrix} 1 & 0 & 0 \\\\ 1/2 & 1 & 0 \\\\ 0 & 4/11 & 1\\end{bmatrix}\n",
        "\\begin{bmatrix} 2 & 1 & 0 \\\\ 0 & 11/2 & 0 \\\\ 0 & 0 & 1 \\end{bmatrix}\n",
        "\\end{align*}\n",
        "\n",
        "We started with the equation $Ax=b$. It follows that $PAx=Pb$, but we know that $PA = LU$. We can now solve the equation\n",
        "\n",
        "$$ LUx = Pb $$\n",
        "\n",
        "in two steps. First, we can define $Ux\\equiv z$ and solve $Lz = Pb$. We will then solve $Ux=z$ to obtain our final solution for $x$.\n",
        "\n"
      ]
    },
    {
      "cell_type": "code",
      "metadata": {
        "id": "lizT3WI1y-NL",
        "colab_type": "code",
        "outputId": "71a21b03-643e-4a26-ae56-0de1532a665f",
        "colab": {
          "base_uri": "https://localhost:8080/",
          "height": 34
        }
      },
      "source": [
        "A=np.array([[1,6,0],[2,1,0],[0,2,1]])\n",
        "L=np.array([[1,0,0],[1/2,1,0],[0,4/11,1]])\n",
        "U=np.array([[2,1,0],[0,11/2,0],[0,0,1]])\n",
        "b=np.array([1,3,1]);b =np.transpose(b)\n",
        "\n",
        "z = np.linalg.solve(L,b)\n",
        "x = np.linalg.solve(U,z)\n",
        "\n",
        "print('Vector x*11: ',x*11)"
      ],
      "execution_count": 1099,
      "outputs": [
        {
          "output_type": "stream",
          "text": [
            "Vector x*11:  [3. 5. 1.]\n"
          ],
          "name": "stdout"
        }
      ]
    },
    {
      "cell_type": "markdown",
      "metadata": {
        "id": "DbvjDSedHj1k",
        "colab_type": "text"
      },
      "source": [
        "And we see that our solution is the same as before\n",
        "$$\\boxed{ x_1 = 3/11 \\quad\\quad x_2 = 5/11 \\quad\\quad x_3 = 1/11}$$\n"
      ]
    },
    {
      "cell_type": "markdown",
      "metadata": {
        "id": "cuyrdxg3IEZJ",
        "colab_type": "text"
      },
      "source": [
        "---\n",
        "\n",
        "Assume that A is an *n x n* banded real matrix with a bandwidth of *2k + 1* $(i.e. A_{ij}=0\\text{ when } |i-j| > k)$. Show that the matrices $L$ and $U$ given by the Guassian elimination method (without pivoting) are also banded matrices with a bandwidth of *2k + 1*.\n",
        "\n",
        "---"
      ]
    },
    {
      "cell_type": "markdown",
      "metadata": {
        "id": "NQrpIwyWgHJJ",
        "colab_type": "text"
      },
      "source": [
        "*Suppose* we have the matrix\n",
        "\n",
        "$$\n",
        "A = \n",
        "\\begin{bmatrix}\n",
        "  a_{11} & a_{12}  & \\cdots  &a_{1,k+1} &  &  &&  \\\\\n",
        "  a_{21} & a_{22}  & \\ddots &\\cdots & a_{2,k+2} &  &  &  \\\\\n",
        "  \\vdots & \\ddots & \\ddots &\\ddots &\\ddots&\\ddots&&\\\\\n",
        "  a_{k+1,1} &\\ddots & \\ddots& \\ddots &\\ddots&\\ddots & \\ddots \\\\ \n",
        "   & a_{k+2,2} &\\ddots &\\ddots & \\ddots & \\ddots & \\ddots & a_{n-k,n} \\\\\n",
        "   &  & \\ddots & \\ddots & \\ddots & \\ddots & \\ddots & \\vdots \\\\\n",
        "   &  &  & \\ddots & \\ddots & \\ddots & \\ddots & \\vdots \\\\\n",
        "   &  &  &  & a_{n,n-k} & \\cdots & \\cdots & a_{nn}\n",
        "\\end{bmatrix}\n",
        "$$\n",
        "\n",
        "where the blanks are all 0. We perform gaussian elimination by eliminating the elements in the columns below the diagonal from left to right. That is, from column $C_1$ to column $C_{n-1}$. In each column, we eliminate its elements from top to bottom, starting with those in row $R_1$  and ending with those in row $R_{k+1}$. \n",
        "\n",
        "Taking from $R_i$ a multiple of a row $R_j$ has the restriction $ 1 \\leq j \\lt i$. The corresponding element $(l_{ij})$ will be located to the left of the diagonal entry. Moving on to the second column, we repeat the procedure. This time, subtracting a row $R_i$ by a multiple of some row $R_j$ has the restriction that $2 \\leq j \\lt  i$. The corresponding element  $(l_{ij})$ will again be to the left of the diagonal, but will also be to the right of the first element in the row $R_i$. This left-most element will be zero due to the procedure of Gaussian elimination that was carried out on the first column $C_1$. \n",
        "\n",
        "We want to avoid introducing nonzero entries into a column that we have eliminated. Therefore, when we are dealing with the elements in $C_i$, we only add multiple of rows $R_j$ such that $j \\geq i$. For those in $C_3$, we avoid subtracting by $R_1$ or $R_2$, etc. This will ensure that we obtain a matrix that is indeed upper triangular.\n",
        "\n",
        "The lower triangular matrix $L$ will also have at most bandwidth *2k + 1*. The elements of $L$ correspond to the multiples of rows that are added in the Gaussian elimination process. Adding a multiple of $R_j$ to $R_i$ will result in a nonzero element $(l_{ij})$. Because of our restriction, the elements that are already zero in the lower triangle will remain zero and the nonzero elements $(l_{ij})$ will be within this bandwidth.\n",
        "\n",
        "The upper triangular matrix $U$ will also have at most bandwidth *2k + 1*. Entries will only be affected by those in rows higher than them. All elements that are 0 are either in $R_1$, which we leave alone, or have only zeros above them and are therefore unaffected by Gaussian elimination. \n",
        "\n"
      ]
    },
    {
      "cell_type": "markdown",
      "metadata": {
        "id": "_vL5ZxVG-JL-",
        "colab_type": "text"
      },
      "source": [
        "---\n",
        "---\n",
        "\n",
        "Section 4.4\n",
        "\n",
        "---\n",
        "---\n",
        "\n",
        "Problem 4 \n",
        "\n",
        "---"
      ]
    },
    {
      "cell_type": "markdown",
      "metadata": {
        "id": "UzPPt7fq-fkQ",
        "colab_type": "text"
      },
      "source": [
        "**Show that for any two functions into** $\\rm I \\!R$\n",
        "\n",
        "$$sup[f(x) + g(x)] \\leq sup \\{f(x)\\} + sup \\{g(x)\\} $$"
      ]
    },
    {
      "cell_type": "markdown",
      "metadata": {
        "id": "BojaSmix_DcP",
        "colab_type": "text"
      },
      "source": [
        "\n",
        "Let's begin with\n",
        "\n",
        "\\begin{gather} \n",
        "f(x) \\leq sup\\{f(x)\\} \\quad\\quad g(x) \\leq sup\\{g(x)\\} \n",
        "\\\\\n",
        "f(x) + g(x) \\leq sup\\{f(x) + g(x)\\}\n",
        "\\\\\\\\\n",
        "\\end{gather}\n",
        "\n",
        "So, f(x) + g(x) has a upper bound, which implies the existence of $sup\\{f(x) + g(x)\\}$. By the definition of supremum, $\\forall \\epsilon\\in \\rm I \\!R\\text{ s.t.}, \\epsilon \\gt 0,\\quad\\quad \\exists \\;x_f,x_g \\in X \\quad s.t$\n",
        "\n",
        "\\begin{gather}\n",
        "   \\big(sup\\{f(x)\\} - \\epsilon\\big) \\lt f(x_f) \\;,\\; \\big(sup\\{g(x)\\} - \\epsilon \\big) \\lt g(x_g)\n",
        "\\end{gather}\n",
        "\n",
        "which gives us\n",
        "\n",
        "\\begin{gather}\n",
        "  sup\\{f(x)\\} + sup\\{g(x)\\} - 2\\epsilon \\lt f(x_f) + g(x_f)\n",
        "  \\\\\n",
        "\\end{gather}\n",
        "\n",
        "Therefore, the quantity $$sup\\{f(x)\\} + sup\\{g(x)\\}$$ is the supremum of $$f(x) + g(x)$$ In other words, \n",
        "$$\n",
        "sup\\{f(x)\\} + sup\\{g(x)\\} = sup\\{ f(x) + g(x)\\} \\quad\\quad\\square\n",
        "$$"
      ]
    },
    {
      "cell_type": "markdown",
      "metadata": {
        "id": "ocS9zVJZBext",
        "colab_type": "text"
      },
      "source": [
        "---\n",
        "\n",
        "Problem 5\n",
        "\n",
        "---"
      ]
    },
    {
      "cell_type": "markdown",
      "metadata": {
        "id": "sujKsdcWDBn7",
        "colab_type": "text"
      },
      "source": [
        "Disprove: $\\lvert\\lvert AB\\rvert\\rvert_\\infty = \\lvert\\lvert A\\lvert\\lvert_\\infty\\lvert\\lvert B\\lvert\\lvert_\\infty$\n",
        "\n",
        "\\begin{align*}\n",
        "  \\lvert\\lvert AB\\rvert\\rvert_\\infty &= sup\\{ \\lvert\\lvert ABu\\lvert\\lvert_\\infty : \\lvert\\lvert u\\lvert\\lvert_\\infty=1\\}\n",
        "  \\\\\n",
        "  &\\leq sup\\{ \\lvert\\lvert A \\lvert\\lvert_\\infty \\lvert\\lvert Bu\\lvert\\lvert_\\infty : \\lvert\\lvert u \\lvert\\lvert = 1\\}\n",
        "  \\\\\n",
        "  &= \\lvert\\lvert A \\lvert\\lvert_\\infty sup\\{ \\lvert\\lvert Bu\\lvert\\lvert_\\infty : \\lvert\\lvert u \\lvert\\lvert = 1\\}\n",
        "  \\\\\\\\\n",
        "  \\lvert\\lvert AB\\lvert\\lvert_\\infty &\\leq \\lvert\\lvert A \\lvert\\lvert_\\infty \\lvert\\lvert B\\lvert\\lvert_\\infty\n",
        "\\end{align*}\n",
        "\n",
        "See below for a counter example"
      ]
    },
    {
      "cell_type": "code",
      "metadata": {
        "id": "e9VHEtBCHjF3",
        "colab_type": "code",
        "outputId": "691aea5a-06e5-461d-d81a-a3ac507b1c28",
        "colab": {
          "base_uri": "https://localhost:8080/",
          "height": 68
        }
      },
      "source": [
        "A=np.array([[1,0,0],[0,11,1],[0,0,27]])\n",
        "B=np.array([[1,1,1],[1,1,1],[1,0,1]])\n",
        "AB=np.matmul(A,B)\n",
        "print('Norm of A: ',np.linalg.norm(A,np.inf))\n",
        "print('Norm of B: ',np.linalg.norm(B,np.inf))\n",
        "print('Norm of AB:',np.linalg.norm(AB,np.inf))"
      ],
      "execution_count": 1100,
      "outputs": [
        {
          "output_type": "stream",
          "text": [
            "Norm of A:  27.0\n",
            "Norm of B:  3.0\n",
            "Norm of AB: 54.0\n"
          ],
          "name": "stdout"
        }
      ]
    },
    {
      "cell_type": "markdown",
      "metadata": {
        "id": "WzG8sNqlIIHL",
        "colab_type": "text"
      },
      "source": [
        "What about the case when $B=A$? This is still not necessarily true. If we have \n",
        "$$\n",
        "A=\\begin{bmatrix} 0 & 0 & 0 \\\\ 0 & 0 & 1 \\\\ 0 & 0 & 0 \\end{bmatrix},\n",
        "A^2=\\begin{bmatrix} 0&0&0\\\\0&0&0\\\\0&0&0\\end{bmatrix}\n",
        "$$ \n",
        "then we see that \n",
        "\\begin{align*}\n",
        "  \\lvert\\lvert A^2 \\rvert\\rvert_\\infty &\\neq \\lvert\\lvert A\\rvert\\rvert_\\infty \\lvert\\lvert A \\rvert\\rvert_\\infty\n",
        "  \\\\\n",
        "  0 &\\neq 1\n",
        "\\end{align*}\n",
        "\n",
        "as shown below.\n"
      ]
    },
    {
      "cell_type": "code",
      "metadata": {
        "id": "kxoDFiLCIQ5E",
        "colab_type": "code",
        "outputId": "2592f4d1-af21-4a98-b6c0-55a73e227ee6",
        "colab": {
          "base_uri": "https://localhost:8080/",
          "height": 51
        }
      },
      "source": [
        "A=np.array([[0,0,0],[0,0,1],[0,0,0]])\n",
        "AA=np.matmul(A,A)\n",
        "print('Norm of A, squared: ',np.linalg.norm(A,np.inf)**2) #using l2 norm\n",
        "print('Norm of A^2: ',np.linalg.norm(AA,np.inf))          #\"...........\""
      ],
      "execution_count": 1101,
      "outputs": [
        {
          "output_type": "stream",
          "text": [
            "Norm of A, squared:  1.0\n",
            "Norm of A^2:  0.0\n"
          ],
          "name": "stdout"
        }
      ]
    },
    {
      "cell_type": "markdown",
      "metadata": {
        "id": "2hZfz6xSKEX3",
        "colab_type": "text"
      },
      "source": [
        "---\n",
        "\n",
        "Problem 7 \n",
        "\n",
        "---"
      ]
    },
    {
      "cell_type": "markdown",
      "metadata": {
        "id": "ZQiKv5PjKGZQ",
        "colab_type": "text"
      },
      "source": [
        "**Determine whether these expressions define norms on** $\\rm I \\!R^n:$\n",
        "\n",
        "***(a)***  $max\\{\\lvert x_2\\rvert, \\lvert x_3 \\rvert, \\ldots , \\lvert x_n \\rvert \\}$\n",
        "\n",
        "No. This tentative norm does not satisfy the property that $$\\lvert\\lvert x \\rvert\\rvert = 0 \\iff x =0$$ The norm could be zero for any value of $x_1$.\n",
        "\n",
        "***(b)*** $\\sum\\limits_{i=1}^{n} \\lvert x_i \\rvert  ^3$\n",
        "\n",
        "No. $\\lvert\\lvert a x \\rvert\\rvert = \\sum\\limits_{i=1}^n \\lvert a x_i \\rvert ^3 = a^3 \\sum\\limits_{i=1}^n \\lvert x_i \\rvert ^3 = a^3 \\lvert\\lvert x \\rvert\\rvert$, which violates the property that \n",
        "$$ \\lvert\\lvert a x \\rvert\\rvert = \\lvert a \\rvert \\lvert\\lvert x \\rvert\\rvert$$\n",
        "for some $a\\in \\rm I \\!R$.\n",
        "\n",
        "***(c)*** $\\bigg\\{ \\sum\\limits_{i=1}^n \\lvert x_i \\rvert ^{1/2} \\bigg\\}^2$\n",
        "\n",
        "No, this norm isn't subadditive. It doesn't satisfy the property \n",
        "\n",
        "$$ \n",
        "\\lvert\\lvert x + y \\rvert\\rvert \\leq \\lvert\\lvert x \\rvert\\rvert + \\lvert\\lvert y \\rvert\\rvert\n",
        "$$\n",
        " A counterexample: "
      ]
    },
    {
      "cell_type": "code",
      "metadata": {
        "id": "WAJTr4sTqQvV",
        "colab_type": "code",
        "colab": {
          "base_uri": "https://localhost:8080/",
          "height": 51
        },
        "outputId": "d9684e19-9073-44a7-83a4-402a41fba46f"
      },
      "source": [
        "def normm(v):\n",
        "  self = 0\n",
        "  for i in range(len(v)):\n",
        "    self = self + np.sqrt(abs(v[i]))\n",
        "  self = self**2\n",
        "  return self\n",
        "\n",
        "x=np.array([1,0])\n",
        "y=np.array([0,1])\n",
        "z=x+y\n",
        "\n",
        "print(\"Norm of 'x+y': \", normm(z))\n",
        "print(\"Norm of x + norm of y: \", normm(x)+normm(y))"
      ],
      "execution_count": 1102,
      "outputs": [
        {
          "output_type": "stream",
          "text": [
            "Norm of 'x+y':  4.0\n",
            "Norm of x + norm of y:  2.0\n"
          ],
          "name": "stdout"
        }
      ]
    },
    {
      "cell_type": "markdown",
      "metadata": {
        "id": "bsHU0mNPth7C",
        "colab_type": "text"
      },
      "source": [
        "***(d)*** $max\\{\\lvert x_1 - x_2 \\rvert, \\lvert x_1 + x_2 \\rvert , \\lvert x_3  \\rvert, \\ldots,\\lvert x_n\\rvert \\}$\n",
        "\n",
        "Yes. This norm is 0 $\\iff$ all entries $x_i =0$. It is also homogeneous (degree 1):\n",
        "\n",
        "\\begin{align*}\n",
        "  max\\{\\lvert ax_1 - ax_2 \\rvert, \\lvert ax_1 + ax_2 \\rvert , \\lvert ax_3  \\rvert, \\ldots,\\lvert ax_n\\rvert \\} &= \\lvert a \\rvert max\\{\\lvert x_1 - x_2 \\rvert, \\lvert x_1 + x_2 \\rvert , \\lvert x_3  \\rvert, \\ldots,\\lvert x_n\\rvert \\}\n",
        "  \\\\\n",
        "  \\lvert\\lvert a x \\rvert\\rvert &= \\lvert a \\rvert \\lvert\\lvert x \\rvert\\rvert\n",
        "\\end{align*}\n",
        "\n",
        "This norm is also subadditive. \n",
        "\n",
        "\\begin{align*}\n",
        "  \\lvert\\lvert x + y \\rvert\\rvert &= max\\{\\lvert x_1 +y_1 - (x_2 +y_2) \\rvert, \\lvert x_1 + y_1 + x_2 + y_2 \\rvert , \\lvert x_3 + y_3 \\rvert, \\ldots,\\lvert x_n + y_n\\rvert \\}\n",
        "  \\\\\n",
        "  &\\leq max\\{\\lvert x_1 - x_2\\rvert + \\lvert y_2 - y_2\\rvert, \\lvert x_1 + x_2 \\rvert + \\lvert y_1 + y_2 \\rvert, \\lvert x_3 \\rvert + \\vert y_3 \\rvert, \\ldots,\\lvert x_n\\rvert + \\vert y_n \\rvert\\}\n",
        "  \\\\\n",
        "  &\\leq max\\{ \\lvert x_1 - x_2 \\rvert, \\lvert x_1 + x_2 \\rvert, \\lvert x_3 \\rvert, \\ldots, \\lvert x_n \\rvert \\} + max\\{ \\lvert y_1 - y_2 \\rvert, \\lvert y_1 + y_2 \\rvert, \\lvert y_3 \\rvert, \\ldots \\lvert y_n \\rvert\\}\n",
        "  \\\\\\\\\n",
        "  \\lvert\\lvert x + y \\rvert\\rvert &\\leq\n",
        "  \\lvert\\lvert x \\rvert\\rvert + \\lvert\\lvert y \\rvert\\rvert\n",
        "\\end{align*}\n",
        "\n",
        "***(e)*** $\\sum\\limits_{i=1}^n 2^{-i} \\lvert x_i\\rvert$\n",
        "\n",
        "Yes. This norm is 0 $\\iff\\, x_i = 0 \\quad\\forall i\\in\\{1,\\ldots,n\\}$. Additionally, it is homogeneous (degree 1):\n",
        "\n",
        "\\begin{align*}\n",
        "  \\sum\\limits_{i=1}^n 2^{-i} \\lvert a x_i\\rvert &= \\lvert a \\rvert \\sum\\limits_{i=1}^n \\lvert x_i\\rvert\n",
        "  \\\\\\\\\n",
        "  \\lvert\\lvert a x \\rvert\\rvert &= \\lvert a \\rvert \\lvert\\lvert x \\rvert\\rvert\n",
        "\\end{align*}\n",
        "\n",
        "This norm is also subadditive.\n",
        "\n",
        "\\begin{align*}\n",
        "  \\lvert\\lvert x + y \\rvert\\rvert &= \\sum\\limits_{i=1}^n 2^{-i} \\lvert x_i + y_i \\rvert \\leq \\sum\\limits_{i=1}^n 2^{-i} \\bigg( \\lvert x_i \\rvert + \\vert y_i \\rvert \\bigg) = \\bigg(\\sum\\limits_{i=1}^n 2^{-i}\\lvert x_i \\rvert\\bigg) + \\bigg( \\sum\\limits_{i=1}^n 2^{-i}\\lvert y_i \\rvert\\bigg)\n",
        "  \\\\\\\\\n",
        "  \\lvert\\lvert x + y \\rvert\\rvert & \\leq \\lvert\\lvert x \\rvert\\rvert + \\lvert\\lvert y \\rvert\\rvert\n",
        "\\end{align*}"
      ]
    }
  ]
}