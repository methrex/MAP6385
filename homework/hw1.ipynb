{
  "nbformat": 4,
  "nbformat_minor": 0,
  "metadata": {
    "colab": {
      "name": "homework/hw1",
      "provenance": [],
      "collapsed_sections": [],
      "authorship_tag": "ABX9TyNrEReZNXPuG2gl3iOB9Pb2",
      "include_colab_link": true
    },
    "kernelspec": {
      "name": "python3",
      "display_name": "Python 3"
    }
  },
  "cells": [
    {
      "cell_type": "markdown",
      "metadata": {
        "id": "view-in-github",
        "colab_type": "text"
      },
      "source": [
        "<a href=\"https://colab.research.google.com/github/methrex/MAP6385/blob/master/homework/hw1.ipynb\" target=\"_parent\"><img src=\"https://colab.research.google.com/assets/colab-badge.svg\" alt=\"Open In Colab\"/></a>"
      ]
    },
    {
      "cell_type": "markdown",
      "metadata": {
        "id": "me9dW7YqlUuC",
        "colab_type": "text"
      },
      "source": [
        "**2.2**\n",
        "\n",
        "Computer problem 6\n",
        "\n",
        "---"
      ]
    },
    {
      "cell_type": "code",
      "metadata": {
        "id": "8e0Ol2grj4nk",
        "colab_type": "code",
        "outputId": "1c8bea6e-e543-42a1-e8aa-c4b1f391b859",
        "colab": {
          "base_uri": "https://localhost:8080/",
          "height": 129
        }
      },
      "source": [
        "import numpy as np\n",
        "\n",
        "#initialize two double precision and two single precision arrays\n",
        "x64 = np.array([718281828, -3.141592654, 1.414213562, 0.5772156649, 0.3010299957])\n",
        "y64 = np.array([1486.2497, 878366.9879, -22.37492, 4773714.647, 0.000185049])\n",
        "x32 = np.array(x64,dtype='f');y32 = np.array(y64,dtype='f')\n",
        "\n",
        "ans = np.array([[]])\n",
        "\n",
        "n = len(x)"
      ],
      "execution_count": 0,
      "outputs": [
        {
          "output_type": "error",
          "ename": "SyntaxError",
          "evalue": "ignored",
          "traceback": [
            "\u001b[0;36m  File \u001b[0;32m\"<ipython-input-83-f95654475375>\"\u001b[0;36m, line \u001b[0;32m2\u001b[0m\n\u001b[0;31m    \\usepackage{amsmath}\u001b[0m\n\u001b[0m                        ^\u001b[0m\n\u001b[0;31mSyntaxError\u001b[0m\u001b[0;31m:\u001b[0m unexpected character after line continuation character\n"
          ]
        }
      ]
    },
    {
      "cell_type": "markdown",
      "metadata": {
        "id": "3Whb3Brwm4od",
        "colab_type": "text"
      },
      "source": [
        "(a) Forward order $\\sum\\limits_{i=1}^n x_iy_i$"
      ]
    },
    {
      "cell_type": "code",
      "metadata": {
        "id": "4EPUUpWMnK_9",
        "colab_type": "code",
        "outputId": "5196fbb2-c9b8-4c54-bb68-960f9612f968",
        "colab": {
          "base_uri": "https://localhost:8080/",
          "height": 68
        }
      },
      "source": [
        "sum32=0;sum64=0\n",
        "for i in range(n):\n",
        "  sum32 = sum32 + x32[i]*y32[i]\n",
        "  sum64 = sum64 + x64[i]*y64[i]\n",
        "print('Single precision: ',sum32);print('Double precision: ',sum64)\n",
        "np.append(ans,[sum32,sum64])"
      ],
      "execution_count": 0,
      "outputs": [
        {
          "output_type": "stream",
          "text": [
            "Single precision:  1067546243127.607\n",
            "Double precision:  1067546147340.406\n"
          ],
          "name": "stdout"
        },
        {
          "output_type": "execute_result",
          "data": {
            "text/plain": [
              "array([1.06754624e+12, 1.06754615e+12])"
            ]
          },
          "metadata": {
            "tags": []
          },
          "execution_count": 81
        }
      ]
    },
    {
      "cell_type": "markdown",
      "metadata": {
        "id": "jyyF3bKsnc_c",
        "colab_type": "text"
      },
      "source": [
        "(b) Reverse order $\\sum\\limits_{i=n}^1 x_iy_i$"
      ]
    },
    {
      "cell_type": "code",
      "metadata": {
        "id": "E3MvXBv-nmcD",
        "colab_type": "code",
        "outputId": "6b1cf018-3e77-4e32-a602-ff3a7bc767c8",
        "colab": {
          "base_uri": "https://localhost:8080/",
          "height": 285
        }
      },
      "source": [
        "sum32=0;sum64=0\n",
        "for i in range(n-1,-1,-1):\n",
        "  sum32 = sum32 + x32[i]*y32[i]\n",
        "  sum64 = sum64 + x64[i]*y64[i]\n",
        "sum = np.array([sum32,sum64])\n",
        "print('Single precision: ',sum32);print('Double precision: ',sum64)\n",
        "np.concatenate((ans,sum))"
      ],
      "execution_count": 0,
      "outputs": [
        {
          "output_type": "stream",
          "text": [
            "Single precision:  1067546243127.6072\n",
            "Double precision:  1067546147340.4061\n"
          ],
          "name": "stdout"
        },
        {
          "output_type": "error",
          "ename": "ValueError",
          "evalue": "ignored",
          "traceback": [
            "\u001b[0;31m---------------------------------------------------------------------------\u001b[0m",
            "\u001b[0;31mValueError\u001b[0m                                Traceback (most recent call last)",
            "\u001b[0;32m<ipython-input-82-02c9315f65ce>\u001b[0m in \u001b[0;36m<module>\u001b[0;34m()\u001b[0m\n\u001b[1;32m      5\u001b[0m \u001b[0msum\u001b[0m \u001b[0;34m=\u001b[0m \u001b[0mnp\u001b[0m\u001b[0;34m.\u001b[0m\u001b[0marray\u001b[0m\u001b[0;34m(\u001b[0m\u001b[0;34m[\u001b[0m\u001b[0msum32\u001b[0m\u001b[0;34m,\u001b[0m\u001b[0msum64\u001b[0m\u001b[0;34m]\u001b[0m\u001b[0;34m)\u001b[0m\u001b[0;34m\u001b[0m\u001b[0;34m\u001b[0m\u001b[0m\n\u001b[1;32m      6\u001b[0m \u001b[0mprint\u001b[0m\u001b[0;34m(\u001b[0m\u001b[0;34m'Single precision: '\u001b[0m\u001b[0;34m,\u001b[0m\u001b[0msum32\u001b[0m\u001b[0;34m)\u001b[0m\u001b[0;34m;\u001b[0m\u001b[0mprint\u001b[0m\u001b[0;34m(\u001b[0m\u001b[0;34m'Double precision: '\u001b[0m\u001b[0;34m,\u001b[0m\u001b[0msum64\u001b[0m\u001b[0;34m)\u001b[0m\u001b[0;34m\u001b[0m\u001b[0;34m\u001b[0m\u001b[0m\n\u001b[0;32m----> 7\u001b[0;31m \u001b[0mnp\u001b[0m\u001b[0;34m.\u001b[0m\u001b[0mconcatenate\u001b[0m\u001b[0;34m(\u001b[0m\u001b[0;34m(\u001b[0m\u001b[0mans\u001b[0m\u001b[0;34m,\u001b[0m\u001b[0msum\u001b[0m\u001b[0;34m)\u001b[0m\u001b[0;34m)\u001b[0m\u001b[0;34m\u001b[0m\u001b[0;34m\u001b[0m\u001b[0m\n\u001b[0m",
            "\u001b[0;32m<__array_function__ internals>\u001b[0m in \u001b[0;36mconcatenate\u001b[0;34m(*args, **kwargs)\u001b[0m\n",
            "\u001b[0;31mValueError\u001b[0m: all the input arrays must have same number of dimensions, but the array at index 0 has 2 dimension(s) and the array at index 1 has 1 dimension(s)"
          ]
        }
      ]
    },
    {
      "cell_type": "markdown",
      "metadata": {
        "id": "hYaphtoknyjN",
        "colab_type": "text"
      },
      "source": [
        "(c) Largest-to-smallest"
      ]
    },
    {
      "cell_type": "code",
      "metadata": {
        "id": "_DIPC8iNn3Ax",
        "colab_type": "code",
        "colab": {}
      },
      "source": [
        "sum = np.array([0,0])\n",
        "product32 = x32*y32\n",
        "product64 = x64*y64\n",
        "minus32 = product32[product32<0]\n",
        "minus64 = product64[product64<0]\n",
        "plus32  = product32[product32>=0]\n",
        "plus64  = product64[product64>=0]\n",
        "plus32  = np.sort(plus32) ;plus32  = plus32[::-1]\n",
        "plus64  = np.sort(plus64) ;plus64  = plus64[::-1]\n",
        "minus32 = np.sort(minus32);minus32 = minus32[::-1]\n",
        "minus64 = np.sort(minus64);minus54 = minus64[::-1]\n",
        "for i,j in zip(plus32,plus64):\n",
        "  sum = sum + [i,j]\n",
        "for i,j in zip(minus32,minus64):\n",
        "  sum = sum + [i,j]\n",
        "print('Single precision: ',sum[0]);print('Double precision: ',sum[1])\n",
        "np.concatenate(ans,sum)"
      ],
      "execution_count": 0,
      "outputs": []
    },
    {
      "cell_type": "markdown",
      "metadata": {
        "id": "pfoOeF_Mq2ST",
        "colab_type": "text"
      },
      "source": [
        "(d) Smallest-to-largest"
      ]
    },
    {
      "cell_type": "code",
      "metadata": {
        "id": "H_ihSotcq-5h",
        "colab_type": "code",
        "colab": {}
      },
      "source": [
        "sum = np.array([0,0])\n",
        "product32 = x32*y32\n",
        "product64 = x64*y64\n",
        "minus32 = product32[product32<0]\n",
        "minus64 = product64[product64<0]\n",
        "plus32  = product32[product32>=0]\n",
        "plus64  = product64[product64>=0]\n",
        "plus32  = np.sort(plus32) \n",
        "plus64  = np.sort(plus64) \n",
        "minus32 = np.sort(minus32)\n",
        "minus64 = np.sort(minus64)\n",
        "for i,j in zip(plus32,plus64):\n",
        "  sum = sum + [i,j]\n",
        "for i,j in zip(minus32,minus64):\n",
        "  sum = sum + [i,j]\n",
        "print('Single precision: ',sum[0]);print('Double precision: ',sum[1])\n",
        "np.concatenate(ans,sum)\n",
        "print(sum)"
      ],
      "execution_count": 0,
      "outputs": []
    },
    {
      "cell_type": "markdown",
      "metadata": {
        "id": "luZ_bjRDr8Mj",
        "colab_type": "text"
      },
      "source": [
        "Comparing these all:"
      ]
    },
    {
      "cell_type": "code",
      "metadata": {
        "id": "rIHVpBCFwwpY",
        "colab_type": "code",
        "colab": {}
      },
      "source": [
        "print(ans); print(\"The 'true' value is 1.006574*10**-9\")"
      ],
      "execution_count": 0,
      "outputs": []
    },
    {
      "cell_type": "markdown",
      "metadata": {
        "id": "WcLuV9vi6BuE",
        "colab_type": "text"
      },
      "source": [
        "---\n",
        "---\n",
        "\n",
        "\n",
        "4.1\n",
        "\n",
        "---\n",
        "---\n",
        "\n",
        "Problem 3\n",
        "\n",
        "---\n"
      ]
    },
    {
      "cell_type": "markdown",
      "metadata": {
        "id": "5FOmdAPD-uYQ",
        "colab_type": "text"
      },
      "source": [
        "**Prove that each of the elementary operations can be undone by an operation of the same type.**\n"
      ]
    },
    {
      "cell_type": "markdown",
      "metadata": {
        "id": "NF00C0Wu_PW0",
        "colab_type": "text"
      },
      "source": [
        "*Row swap*\n",
        "\n",
        "---\n",
        "\n",
        "Let operations of the type $(R_k \\leftrightarrow R_i)$ be operations that interchange the rows $R_K$ and $R_i$ of some matrix. Suppose we have\n",
        "\n",
        "$(R_i \\leftrightarrow R_k)(R_i \\leftrightarrow R_k)A$\n",
        "\n",
        "We can write the matrix $A$ as a column vector of rows\n",
        "$$A=  \\begin{bmatrix}\n",
        "        \\vdots \\\\ \n",
        "        R_k \\\\ \n",
        "        R_i \\\\ \n",
        "        \\vdots \n",
        "      \\end{bmatrix} \n",
        "$$\n",
        "Then, it is easy to see that \n",
        "\\begin{align*}\n",
        "(R_i \\leftrightarrow R_k)(R_i \\leftrightarrow R_k)A &= (R_i \\leftrightarrow R_k)(R_i \\leftrightarrow R_k) \n",
        "      \\begin{bmatrix}\n",
        "        \\vdots \\\\ \n",
        "        R_k \\\\ \n",
        "        R_i \\\\ \n",
        "        \\vdots \n",
        "      \\end{bmatrix} \n",
        "\\\\\n",
        "&=(R_i \\leftrightarrow R_k) \n",
        "      \\begin{bmatrix}\n",
        "        \\vdots \\\\ \n",
        "        R_i \\\\ \n",
        "        R_k \\\\ \n",
        "        \\vdots \n",
        "      \\end{bmatrix} \n",
        "\\\\\n",
        "&= \\begin{bmatrix}\n",
        "      \\vdots \\\\ \n",
        "      R_k \\\\ \n",
        "      R_i \\\\ \n",
        "      \\vdots \n",
        "    \\end{bmatrix} \n",
        "\\end{align*}\n",
        "Using the associativity of matrix multiplication:\n",
        "$$\n",
        "(R_i \\leftrightarrow R_k)(R_i \\leftrightarrow R_k)A = A \n",
        "\\implies\n",
        "(R_i \\leftrightarrow R_k)(R_i \\leftrightarrow R_k) = I\n",
        "$$\n",
        "\n",
        "assuming we can represent these operations as matrices. So, we've reached the conclusion that, for any indices $i$ and $k$ of the matrix A, any row interchange operation $(R_i \\leftrightarrow R_k)$ is its own inverse. $\\quad\\square$"
      ]
    },
    {
      "cell_type": "markdown",
      "metadata": {
        "id": "xHlYvCaI_TTP",
        "colab_type": "text"
      },
      "source": [
        "*Multiplication of a row by a nonzero scalar*\n",
        "\n",
        "---\n",
        "\n",
        "I'll use similar notation as above. Let $(cR_k)$ be a matrix operator that multiplies the $k^{th}$ row of a matrix by some $c\\in\\rm I\\!R$ such that $c\\neq0$. Then,\n",
        "\n",
        "\\begin{align*}\n",
        "  (c^{-1}R_k)(cR_k)A &= (c^{-1}R_k)(cR_k)\n",
        "      \\begin{bmatrix}\n",
        "        \\vdots \\\\ \n",
        "        R_k \\\\  \n",
        "        \\vdots \n",
        "      \\end{bmatrix} \n",
        "      \\\\\n",
        "      &=(c^{-1}R_k)\n",
        "      \\begin{bmatrix}\n",
        "        \\vdots \\\\ \n",
        "        cR_k \\\\  \n",
        "        \\vdots \n",
        "      \\end{bmatrix} \n",
        "      \\\\\n",
        "      &=\n",
        "      \\begin{bmatrix}\n",
        "        \\vdots \\\\ \n",
        "        R_k \\\\  \n",
        "        \\vdots \n",
        "      \\end{bmatrix} \n",
        "      \\\\\n",
        "      \\therefore\\quad\\quad\\quad\\quad (c^{-1}R_k)(cR_k) &= I\n",
        "\\end{align*}\n",
        "\n",
        "The multiplication of some row by a nonzero scalar can be undone my mutliplying the resulting row with that scalar's multiplicative inverse. $\\square$"
      ]
    },
    {
      "cell_type": "markdown",
      "metadata": {
        "id": "j1U9rHh2_Tx3",
        "colab_type": "text"
      },
      "source": [
        "*Adding a multiple of a row to another*\n",
        "\n",
        "---\n",
        "\n",
        "Let $(R_k:=R_k+cR_i)$ define an operation that adds the $i^{th}$ row of A multiplied by $c(\\neq0)$ to the $k^{th}$ row of A. It follows that\n",
        "\n",
        "\\begin{align*}\n",
        "  (R_k:=R_k-cR_i)(R_k:=R_k+cR_i)A &= (R_k:=R_k-cR_i)\n",
        "  \\begin{bmatrix}\n",
        "      \\vdots \\\\ \n",
        "      R_k + cR_i \\\\  \n",
        "      R_i \\\\\n",
        "      \\vdots \n",
        "  \\end{bmatrix}\n",
        "  \\\\\n",
        "  &= \n",
        "  \\begin{bmatrix}\n",
        "     \\vdots \\\\ \n",
        "     R_k + cR_i - cR_i\\\\  \n",
        "     R_i \\\\\n",
        "     \\vdots \n",
        "  \\end{bmatrix}\n",
        "  =\n",
        "  \\begin{bmatrix}\n",
        "     \\vdots \\\\ \n",
        "     R_k\\\\  \n",
        "     R_i \\\\\n",
        "     \\vdots \n",
        "  \\end{bmatrix}\n",
        "  \\\\\n",
        "  \\therefore \\quad (R_k:=R_k-cR_i)(R_k:=R_k+cR_i) &= I\n",
        "\\end{align*}\n",
        "\n",
        "Adding a multiple of the $i^{th}$ row of a matrix to the $k^{th}$ row can be undone by subtracting the $i^{th}$ row from the resulting $k^{th}$ row.                     $\\quad\\square$\n"
      ]
    },
    {
      "cell_type": "markdown",
      "metadata": {
        "id": "Ktlc178CZ32Q",
        "colab_type": "text"
      },
      "source": [
        "---\n",
        "\n",
        "Problem 13\n",
        "\n",
        "---"
      ]
    },
    {
      "cell_type": "markdown",
      "metadata": {
        "id": "eLi2FYE7Z_T4",
        "colab_type": "text"
      },
      "source": [
        "**Let $D$ be a matrix in partitioned form:**\n",
        "\n",
        "$$\n",
        "D=\n",
        "\\begin{bmatrix}\n",
        "  A & B \\\\\n",
        "  C & I\n",
        "\\end{bmatrix}\n",
        "$$\n",
        "\n",
        "**Prove that if $A-BC$ is nonsingular, then so is $D$.**\n",
        "\n",
        "Suppose we have a matrix $D$ as defined above and that it is nonsingular. Then, we can write \n",
        "\n",
        "\\begin{align*}\n",
        "  DD^{-1}&=I\n",
        "  \\\\\n",
        "  \\begin{bmatrix}\n",
        "    A & B \\\\\n",
        "    C & I\n",
        "  \\end{bmatrix}\n",
        "  \\begin{bmatrix}\n",
        "    X & Y \\\\\n",
        "    Z & W\n",
        "  \\end{bmatrix}\n",
        "  &= \n",
        "  \\begin{bmatrix}\n",
        "    I & 0 \\\\\n",
        "    0 & I\n",
        "  \\end{bmatrix}\n",
        "\\end{align*}\n",
        "\n",
        "We get the following matrix equations:\n",
        "\n",
        "\\begin{align*}\n",
        "   AX + BZ &= I \\\\\n",
        "   CX + Z &= 0  \\\\\n",
        "   AY + BW &= 0 \\\\\n",
        "   CY + W &= I  \\\\\n",
        "\\end{align*}\n",
        "\n",
        "It is immediately obvious that $\\boxed{Z=-CW}$. Using this result on the first equation:\n",
        "\n",
        "\\begin{align*}\n",
        "  AX + B(-CX) &= I \\\\\n",
        "  AX - BCX &= I    \\\\\n",
        "  (A-BC)X &= I     \\\\\n",
        "\\end{align*}\n",
        "\n",
        "$$  \\boxed{X=(A-BC)^{-1}} $$\n",
        "\n",
        "Using the third and fourth equations together:\n",
        "\n",
        "\\begin{align*}\n",
        "  AY + BW &= 0     \\\\\n",
        "  AY + B(I-CY) &=0 \\\\\n",
        "  AY + B - BCY &=0 \\\\\n",
        "  (A-BC)Y + B &=0  \\\\\n",
        "  (A-BC)Y &= -B    \\\\\n",
        "\\end{align*}\n",
        "\n",
        "$$\\boxed{Y=-(A-BC)^{-1}B}$$\n",
        "\n",
        "Using this on the fourth equation:\n",
        "\n",
        "\\begin{align*}\n",
        "  CY + W &= I \\\\\n",
        "  W&= I-CY    \\\\\n",
        "\\end{align*}\n",
        "\n",
        "$$\\boxed{ W=I + C(A-BC)^{-1}B}$$\n",
        "\n",
        "For $D$ to be invertible, we only require $A-BC$ to be nonsingular.$\\quad\\square$"
      ]
    },
    {
      "cell_type": "markdown",
      "metadata": {
        "id": "l3THoHWqg4U1",
        "colab_type": "text"
      },
      "source": [
        "---\n",
        "\n",
        "Problem 16\n",
        "\n",
        "---"
      ]
    },
    {
      "cell_type": "markdown",
      "metadata": {
        "id": "3t_A9iOeg7hC",
        "colab_type": "text"
      },
      "source": [
        "**For what values of $a$ is this matrix positive definite?**\n",
        "\n",
        "$$ \n",
        "A= \n",
        "\\begin{bmatrix}\n",
        "  1 & a & a \\\\\n",
        "  a & 1 & a \\\\\n",
        "  a & a & 1 \\\\\n",
        "\\end{bmatrix}\n",
        "$$"
      ]
    },
    {
      "cell_type": "markdown",
      "metadata": {
        "id": "xI7HWiSXhVzG",
        "colab_type": "text"
      },
      "source": [
        "If $A$ is positive definite, real, and symmetric, the its eigenvalues are all greater than 0 and real. Let's take a look at the characteristic polynomial:\n",
        "\n",
        "\\begin{gather*}\n",
        "  |A-\\lambda I| = 0 \n",
        "  \\\\\\\\\n",
        "  \\begin{vmatrix}\n",
        "    1-\\lambda & a & a \\\\\n",
        "    a & 1-\\lambda & a \\\\\n",
        "    a & a & 1-\\lambda \\\\\n",
        "  \\end{vmatrix}\n",
        "  = 0\n",
        "  \\\\\\\\\n",
        "  (1-\\lambda)\\bigg((1-\\lambda)^2-a^2 \\bigg) -a\\bigg(a(1-\\lambda)\n",
        "  -a^2\\bigg) + a \\bigg(a^2-a(1-\\lambda)\\bigg) =0\n",
        "\\end{gather*}\n",
        "\n",
        "Which simplifies to \n",
        "\n",
        "\n",
        "\\begin{align*}\n",
        "  -&\\lambda^3 + &3 &\\lambda^2 + &(3a^2 - 3)&\\lambda + \n",
        "  &2a^3-3a^2 + 1& =0\n",
        "  \\\\\n",
        "  a&\\lambda^3 + &b&\\lambda^2 + &c&\\lambda + &d& =0\n",
        "\\end{align*}\n",
        "\n",
        "The roots $\\lambda_1,\\lambda_2,\\lambda_3$, of a third degree polynomial of this form satisfy:\n",
        "\n",
        "\\begin{align*}\n",
        "  \\lambda_1 + \\lambda_2 + \\lambda_3 &&=&& -\\frac{b}{c} \n",
        "  &&=&& \\frac{1}{1-a^2}\n",
        "  \\\\\n",
        "  \\lambda_1\\lambda2 + \\lambda_2\\lambda_3 + \\lambda_3\\lambda_1 \n",
        "  &&=&&\\frac{c}{a} &&=&& 3(1-a^2)\n",
        "  \\\\\n",
        "  \\lambda_1\\lambda_2\\lambda_3 &&=&& -\\frac{d}{a} &&=&& 2a^3 -3a^2 +1\n",
        "\\end{align*}\n",
        "\n",
        "The first constraint is also the trace.\n",
        "\n",
        "$$Tr(A) = 1+1+1=3=\\lambda_1+\\lambda_2+\\lambda_3 = \\frac{1}{1-a^2}$$ \n",
        "\n",
        "This gives us the condition $\\boxed{a^2=\\frac{2}{3}}$\n",
        "\n",
        "The third constraint tells us \n",
        "\n",
        "\\begin{align*}\n",
        "  2a^3 -3a^2 + 1 &> 0\n",
        "  \\\\\n",
        "  2a^3+1 &> 3a^2 = 2.\n",
        "  \\\\\n",
        "  a^3 &> 1/2\n",
        "\\end{align*}\n",
        "$$  \\boxed{a > (1/2)^{\\frac{1}{3}}>0}$$\n",
        "\n",
        "We see that \n",
        "\n",
        "$$\n",
        "\\bigg(a=\\pm\\sqrt{2/3}\\bigg) land \\bigg(a>0 \\bigg)\n",
        "\\implies \\boxed{\\boxed{a=\\sqrt{2/3}}}\n",
        "\\\\\\\\\n",
        "\\quad\\quad\\quad\\quad\\quad\\quad\\quad\\quad\\quad\\quad\\quad\\square\n",
        "$$"
      ]
    },
    {
      "cell_type": "markdown",
      "metadata": {
        "id": "V0bQAw9spGsb",
        "colab_type": "text"
      },
      "source": [
        "---\n",
        "---\n",
        "\n",
        "Section 4.2\n",
        "\n",
        "---\n",
        "---"
      ]
    },
    {
      "cell_type": "markdown",
      "metadata": {
        "id": "jscbVYKvpXbn",
        "colab_type": "text"
      },
      "source": [
        "Problem 1\n",
        "\n",
        "---"
      ]
    },
    {
      "cell_type": "markdown",
      "metadata": {
        "id": "1EuXxG8opZTw",
        "colab_type": "text"
      },
      "source": [
        "**(a)  Show that if $U$ is upper triangular and invertible, then $U^{-1}$ is upper triangular**"
      ]
    },
    {
      "cell_type": "markdown",
      "metadata": {
        "id": "wq3_BB5ApleH",
        "colab_type": "text"
      },
      "source": [
        "***Base case: *** n=2 \n",
        "\n",
        "(a *1 x 1* matrix is already upper triangular and invertible if it is not 0)\n",
        "\n",
        "Suppose  \n",
        "\n",
        "$$\n",
        "U = \n",
        "  \\begin{bmatrix} \n",
        "    u_{11} & u_{12} \\\\\n",
        "    u{12} & u_{22} \n",
        "  \\end{bmatrix}\n",
        "  \\in \\rm I\\!R^{2x2}\n",
        "$$\n",
        "\n",
        "Then, if its inverse exists,\n",
        "$$\n",
        "U^{-1} = \\frac{1}{u_{11}u_{22}}\n",
        "  \\begin{bmatrix}\n",
        "    u_{22} & -u_{12} \\\\ \n",
        "    0 & u_{11}\n",
        "  \\end{bmatrix}\n",
        "$$\n",
        "which is also upper triangular. So, $P(2)$ is true.\n",
        "\n",
        "\n",
        "***Inductive step:*** arbitrary $k\\in\\!Z$ such that $k>= 2$\n",
        "\n",
        "Assume the proposition $P(k)$ is true for a *k x k* matrix $U_k.$ That is, it is an upper triangular invertible matrix whose inverse is also upper triangular. We can then form the matrix\n",
        "\n",
        "$$ U_{k+1} = \n",
        "  \\begin{bmatrix}\n",
        "    U_k & \\vec{u} \\\\\n",
        "    \\big(\\vec{0}\\big)^T & u'\n",
        "  \\end{bmatrix}  \n",
        "\\in\\rm I\\!R^\\text{(n+1) x (n+1)}$$\n",
        "\n",
        "which is also upper triangular. $\\vec{u}$ is some column vector of length $k$ and $\\big(\\vec{0}\\big)^T$ is the zero vector of the same size. u' is some nonzero real scalar. Since $U_k$ is nonsingular and since u' is nonzero, then the determinant of $U_{k+1}$ is also nonzero by the properties of block matrices. Therefore, $U_{k+1}^{-1}$ exists, but what is it? \n",
        "\n",
        "$$\n",
        "U_{k+1}^{-1} \\equiv\n",
        "\\begin{bmatrix}\n",
        "  V_k               & \\vec{v} \\\\\n",
        "  \\big(\\vec{w}\\big) & 1\n",
        "\\end{bmatrix}\n",
        "$$\n",
        "\n",
        "where $\\vec{v}$ and $\\vec{w}$ are both  *k x 1* column vectors, and $v'$ is some scalar. $V_k$ is some *k x k* matrix.\n",
        "\n",
        "\\begin{align*}\n",
        "  \\overbrace{\n",
        "    \\begin{bmatrix}\n",
        "      U_k & \\vec{u} \\\\\n",
        "      \\big(\\vec{0}\\big)^T & u'\n",
        "    \\end{bmatrix}\n",
        "  }^{U_{k+1}}\n",
        "  \\underbrace{\n",
        "    \\begin{bmatrix}\n",
        "      V_k & \\vec{v} \\\\\n",
        "      \\big(\\vec{w}\\big)^T & v'\n",
        "    \\end{bmatrix}\n",
        "  }_{U_{k+1}^{-1}}\n",
        "  &&=&&\n",
        "  \\underbrace{\n",
        "    \\begin{bmatrix}\n",
        "      V_k & \\vec{v} \\\\\n",
        "      \\big(\\vec{w}\\big)^T & v'\n",
        "    \\end{bmatrix} \n",
        "  }_{U_{k+1}^{-1}}\n",
        "  \\overbrace{\n",
        "    \\begin{bmatrix}\n",
        "      U_k & \\vec{u} \\\\\n",
        "      \\big(\\vec{0}\\big)^T & u'\n",
        "    \\end{bmatrix} \n",
        "  }^{U_{k+1}}\n",
        "  &&=&&\n",
        "  \\underbrace{\n",
        "    \\begin{bmatrix}\n",
        "      I_k & 0 \\\\\n",
        "      0 & I_k\n",
        "    \\end{bmatrix}\n",
        "  }_{I_{k+1}}\n",
        "\\end{align*}\n",
        "\n",
        "From matrix multiplication, it follows that $$U_kV_k = V_kU_k = I$$\n",
        "Therefore, $\\boxed{V_k = U_k^{-1}}$, which is upper diagonal based on the assumption in our inductive step. More matrix multiplication tells us that\n",
        "$$\n",
        "(I_{2,1} )= 0 = \\big(\\vec{0}\\big)^T U_k^{-1} + u'\\big(\\vec{w}\\big)^T\n",
        "$$\n",
        "\n",
        "Because $u'\\neq0$, we have that $\\boxed{\\vec{w}=0}$. We must take $v'$ to be nonzero if we are to ensure the invertibility of $U_{k+1}^{-1}$. We have determined that\n",
        "\n",
        "$$ U_{k+1}^{-1} = \n",
        "\\begin{bmatrix}\n",
        "  U_k^{-1} & \\vec{v} \\\\\n",
        "  \\big(\\vec{0}\\big) & v'\n",
        "\\end{bmatrix},\\quad v'\\neq0\n",
        "$$\n",
        "\n",
        "which is an upper triangular matrix. We have shown that $P(2)$ is true and that $P(k)\\implies P(k+1)$ for arbitrary $ k\\in\\mathbb{Z}$. By mathematical induction, our proposition $P(n)$ is true $\\,\\forall\\, n \\in \\mathbb{Z}$ such that $n\\geq2. \\quad\\quad\\square$\n",
        "\n",
        "\n"
      ]
    },
    {
      "cell_type": "markdown",
      "metadata": {
        "id": "KyZfd7cr0tbB",
        "colab_type": "text"
      },
      "source": [
        "**(b)  Show that the inverse of a unit lower triangular matrix is unit lower triangular**"
      ]
    },
    {
      "cell_type": "markdown",
      "metadata": {
        "id": "tu8_gtRN03Do",
        "colab_type": "text"
      },
      "source": [
        "We will proceed in a similar fashion."
      ]
    },
    {
      "cell_type": "markdown",
      "metadata": {
        "id": "WqmwvQBB3RrZ",
        "colab_type": "text"
      },
      "source": [
        "(a *1 x 1* unit lower triangular matrix is the scalar $1$, which is its own multiplicative inverse)\n",
        "\n",
        "***Base case:*** n=2 \n",
        "\n",
        "$L_2 = \\begin{bmatrix} 1 & 0 \\\\ 0 & 1 \\end{bmatrix} \\quad\\implies\\quad L_2^{-1} = \\begin{bmatrix} 1 & 0 \\\\ -1 & 0 \\end{bmatrix}$, which is also unit lower triangular.\n",
        "\n",
        "***Inductive step:*** arbitrary $k\\in\\!Z$ such that $k>= 2$\n",
        "\n",
        "Assume the proposition $P(k)$ is true for a *k x k* matrix L_k. We construct the matrix \n",
        "\n",
        "$$\n",
        "L_{k+1} = \n",
        "\\begin{bmatrix} \n",
        "  L_k                 & \\vec(0) \\\\ \n",
        "  \\big(\\vec{l}\\big)^T & 1\n",
        "\\end{bmatrix}\n",
        "$$\n",
        "By properties of block matrices, $|L_{k+1}|\\neq0$. Therefore, $L_{k+1}^{-1}$ exists and we can construct it. Let \n",
        "\n",
        "$$\n",
        "L_{k+1}^{-1} \\equiv\n",
        "\\begin{bmatrix}\n",
        "  \\Gamma_k                 & \\vec{\\gamma} \\\\\n",
        "  \\big(\\vec{\\delta}\\big)^T & l'\n",
        "\\end{bmatrix}\n",
        "$$\n",
        "\n",
        "$\\Gamma_k$ is some *k x k* matrix, $\\vec{\\gamma}$ and $\\vec{\\delta}$ are some *k x 1* vectors, and l' is some scalar. Just as above, we can then form the product\n",
        "\n",
        "$$\n",
        "L_{k+1}L_{k+1}^{-1} = L_{k+1}^{-1}L_{k+1} = I_{k+1}\n",
        "\\\\\n",
        "$$\n"
      ]
    }
  ]
}